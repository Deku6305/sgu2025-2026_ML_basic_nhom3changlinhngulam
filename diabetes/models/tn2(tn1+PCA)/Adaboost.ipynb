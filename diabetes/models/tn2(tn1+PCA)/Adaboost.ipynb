{
 "cells": [
  {
   "cell_type": "markdown",
   "id": "a5ef1426",
   "metadata": {},
   "source": [
    "# Tunning AdaBoost"
   ]
  },
  {
   "cell_type": "markdown",
   "id": "01edd9d6",
   "metadata": {},
   "source": [
    "## 1 Xử lí dữ liệu"
   ]
  },
  {
   "cell_type": "markdown",
   "id": "85870600",
   "metadata": {},
   "source": [
    "### 1.1 Thư viện"
   ]
  },
  {
   "cell_type": "code",
   "execution_count": 43,
   "id": "5f99e6da",
   "metadata": {},
   "outputs": [],
   "source": [
    "import numpy as np\n",
    "import pandas as pd\n",
    "import matplotlib.pyplot as plt\n",
    "import IPython.display as display\n",
    "import math"
   ]
  },
  {
   "cell_type": "markdown",
   "id": "36a00659",
   "metadata": {},
   "source": [
    "### 1.2 Đọc tập dữ liệu "
   ]
  },
  {
   "cell_type": "code",
   "execution_count": 44,
   "id": "69141239",
   "metadata": {},
   "outputs": [],
   "source": [
    "data_path  = \"../../data/pima-indians-diabetes.csv\"\n",
    "data_names = [\"Pregnant\",\"2Hr_Gluco_Concentrate\",\"Blood_Pressure\",\"Skin_Fold\",\"2Hr_Isnulin\",\"BMI\",\"Predigy\",\"Age\",\"Class\"]\n",
    "df = pd.read_csv(data_path, names = data_names)"
   ]
  },
  {
   "cell_type": "code",
   "execution_count": 45,
   "id": "20eee250",
   "metadata": {},
   "outputs": [
    {
     "data": {
      "text/html": [
       "<div>\n",
       "<style scoped>\n",
       "    .dataframe tbody tr th:only-of-type {\n",
       "        vertical-align: middle;\n",
       "    }\n",
       "\n",
       "    .dataframe tbody tr th {\n",
       "        vertical-align: top;\n",
       "    }\n",
       "\n",
       "    .dataframe thead th {\n",
       "        text-align: right;\n",
       "    }\n",
       "</style>\n",
       "<table border=\"1\" class=\"dataframe\">\n",
       "  <thead>\n",
       "    <tr style=\"text-align: right;\">\n",
       "      <th></th>\n",
       "      <th>Pregnant</th>\n",
       "      <th>2Hr_Gluco_Concentrate</th>\n",
       "      <th>Blood_Pressure</th>\n",
       "      <th>Skin_Fold</th>\n",
       "      <th>2Hr_Isnulin</th>\n",
       "      <th>BMI</th>\n",
       "      <th>Predigy</th>\n",
       "      <th>Age</th>\n",
       "      <th>Class</th>\n",
       "    </tr>\n",
       "  </thead>\n",
       "  <tbody>\n",
       "    <tr>\n",
       "      <th>count</th>\n",
       "      <td>768.000000</td>\n",
       "      <td>768.000000</td>\n",
       "      <td>768.000000</td>\n",
       "      <td>768.000000</td>\n",
       "      <td>768.000000</td>\n",
       "      <td>768.000000</td>\n",
       "      <td>768.000000</td>\n",
       "      <td>768.000000</td>\n",
       "      <td>768.000000</td>\n",
       "    </tr>\n",
       "    <tr>\n",
       "      <th>mean</th>\n",
       "      <td>3.845052</td>\n",
       "      <td>120.894531</td>\n",
       "      <td>69.105469</td>\n",
       "      <td>20.536458</td>\n",
       "      <td>79.799479</td>\n",
       "      <td>31.992578</td>\n",
       "      <td>0.471876</td>\n",
       "      <td>33.240885</td>\n",
       "      <td>0.348958</td>\n",
       "    </tr>\n",
       "    <tr>\n",
       "      <th>std</th>\n",
       "      <td>3.369578</td>\n",
       "      <td>31.972618</td>\n",
       "      <td>19.355807</td>\n",
       "      <td>15.952218</td>\n",
       "      <td>115.244002</td>\n",
       "      <td>7.884160</td>\n",
       "      <td>0.331329</td>\n",
       "      <td>11.760232</td>\n",
       "      <td>0.476951</td>\n",
       "    </tr>\n",
       "    <tr>\n",
       "      <th>min</th>\n",
       "      <td>0.000000</td>\n",
       "      <td>0.000000</td>\n",
       "      <td>0.000000</td>\n",
       "      <td>0.000000</td>\n",
       "      <td>0.000000</td>\n",
       "      <td>0.000000</td>\n",
       "      <td>0.078000</td>\n",
       "      <td>21.000000</td>\n",
       "      <td>0.000000</td>\n",
       "    </tr>\n",
       "    <tr>\n",
       "      <th>25%</th>\n",
       "      <td>1.000000</td>\n",
       "      <td>99.000000</td>\n",
       "      <td>62.000000</td>\n",
       "      <td>0.000000</td>\n",
       "      <td>0.000000</td>\n",
       "      <td>27.300000</td>\n",
       "      <td>0.243750</td>\n",
       "      <td>24.000000</td>\n",
       "      <td>0.000000</td>\n",
       "    </tr>\n",
       "    <tr>\n",
       "      <th>50%</th>\n",
       "      <td>3.000000</td>\n",
       "      <td>117.000000</td>\n",
       "      <td>72.000000</td>\n",
       "      <td>23.000000</td>\n",
       "      <td>30.500000</td>\n",
       "      <td>32.000000</td>\n",
       "      <td>0.372500</td>\n",
       "      <td>29.000000</td>\n",
       "      <td>0.000000</td>\n",
       "    </tr>\n",
       "    <tr>\n",
       "      <th>75%</th>\n",
       "      <td>6.000000</td>\n",
       "      <td>140.250000</td>\n",
       "      <td>80.000000</td>\n",
       "      <td>32.000000</td>\n",
       "      <td>127.250000</td>\n",
       "      <td>36.600000</td>\n",
       "      <td>0.626250</td>\n",
       "      <td>41.000000</td>\n",
       "      <td>1.000000</td>\n",
       "    </tr>\n",
       "    <tr>\n",
       "      <th>max</th>\n",
       "      <td>17.000000</td>\n",
       "      <td>199.000000</td>\n",
       "      <td>122.000000</td>\n",
       "      <td>99.000000</td>\n",
       "      <td>846.000000</td>\n",
       "      <td>67.100000</td>\n",
       "      <td>2.420000</td>\n",
       "      <td>81.000000</td>\n",
       "      <td>1.000000</td>\n",
       "    </tr>\n",
       "  </tbody>\n",
       "</table>\n",
       "</div>"
      ],
      "text/plain": [
       "         Pregnant  2Hr_Gluco_Concentrate  Blood_Pressure   Skin_Fold  \\\n",
       "count  768.000000             768.000000      768.000000  768.000000   \n",
       "mean     3.845052             120.894531       69.105469   20.536458   \n",
       "std      3.369578              31.972618       19.355807   15.952218   \n",
       "min      0.000000               0.000000        0.000000    0.000000   \n",
       "25%      1.000000              99.000000       62.000000    0.000000   \n",
       "50%      3.000000             117.000000       72.000000   23.000000   \n",
       "75%      6.000000             140.250000       80.000000   32.000000   \n",
       "max     17.000000             199.000000      122.000000   99.000000   \n",
       "\n",
       "       2Hr_Isnulin         BMI     Predigy         Age       Class  \n",
       "count   768.000000  768.000000  768.000000  768.000000  768.000000  \n",
       "mean     79.799479   31.992578    0.471876   33.240885    0.348958  \n",
       "std     115.244002    7.884160    0.331329   11.760232    0.476951  \n",
       "min       0.000000    0.000000    0.078000   21.000000    0.000000  \n",
       "25%       0.000000   27.300000    0.243750   24.000000    0.000000  \n",
       "50%      30.500000   32.000000    0.372500   29.000000    0.000000  \n",
       "75%     127.250000   36.600000    0.626250   41.000000    1.000000  \n",
       "max     846.000000   67.100000    2.420000   81.000000    1.000000  "
      ]
     },
     "execution_count": 45,
     "metadata": {},
     "output_type": "execute_result"
    }
   ],
   "source": [
    "df.describe()"
   ]
  },
  {
   "cell_type": "markdown",
   "id": "a5c3b182",
   "metadata": {},
   "source": [
    "### 1.3 Xử lí dữ liệu thiếu"
   ]
  },
  {
   "cell_type": "code",
   "execution_count": 46,
   "id": "abdf00b3",
   "metadata": {},
   "outputs": [
    {
     "data": {
      "text/html": [
       "<div>\n",
       "<style scoped>\n",
       "    .dataframe tbody tr th:only-of-type {\n",
       "        vertical-align: middle;\n",
       "    }\n",
       "\n",
       "    .dataframe tbody tr th {\n",
       "        vertical-align: top;\n",
       "    }\n",
       "\n",
       "    .dataframe thead th {\n",
       "        text-align: right;\n",
       "    }\n",
       "</style>\n",
       "<table border=\"1\" class=\"dataframe\">\n",
       "  <thead>\n",
       "    <tr style=\"text-align: right;\">\n",
       "      <th></th>\n",
       "      <th>Pregnant</th>\n",
       "      <th>2Hr_Gluco_Concentrate</th>\n",
       "      <th>Blood_Pressure</th>\n",
       "      <th>Skin_Fold</th>\n",
       "      <th>2Hr_Isnulin</th>\n",
       "      <th>BMI</th>\n",
       "      <th>Predigy</th>\n",
       "      <th>Age</th>\n",
       "      <th>Class</th>\n",
       "    </tr>\n",
       "  </thead>\n",
       "  <tbody>\n",
       "    <tr>\n",
       "      <th>count</th>\n",
       "      <td>768.000000</td>\n",
       "      <td>768.000000</td>\n",
       "      <td>768.000000</td>\n",
       "      <td>768.000000</td>\n",
       "      <td>768.000000</td>\n",
       "      <td>768.000000</td>\n",
       "      <td>768.000000</td>\n",
       "      <td>768.000000</td>\n",
       "      <td>768.000000</td>\n",
       "    </tr>\n",
       "    <tr>\n",
       "      <th>mean</th>\n",
       "      <td>3.845052</td>\n",
       "      <td>121.656250</td>\n",
       "      <td>72.389323</td>\n",
       "      <td>29.089844</td>\n",
       "      <td>141.753906</td>\n",
       "      <td>32.434635</td>\n",
       "      <td>0.471876</td>\n",
       "      <td>33.240885</td>\n",
       "      <td>0.348958</td>\n",
       "    </tr>\n",
       "    <tr>\n",
       "      <th>std</th>\n",
       "      <td>3.369578</td>\n",
       "      <td>30.438286</td>\n",
       "      <td>12.106039</td>\n",
       "      <td>8.890820</td>\n",
       "      <td>89.100847</td>\n",
       "      <td>6.880498</td>\n",
       "      <td>0.331329</td>\n",
       "      <td>11.760232</td>\n",
       "      <td>0.476951</td>\n",
       "    </tr>\n",
       "    <tr>\n",
       "      <th>min</th>\n",
       "      <td>0.000000</td>\n",
       "      <td>44.000000</td>\n",
       "      <td>24.000000</td>\n",
       "      <td>7.000000</td>\n",
       "      <td>14.000000</td>\n",
       "      <td>18.200000</td>\n",
       "      <td>0.078000</td>\n",
       "      <td>21.000000</td>\n",
       "      <td>0.000000</td>\n",
       "    </tr>\n",
       "    <tr>\n",
       "      <th>25%</th>\n",
       "      <td>1.000000</td>\n",
       "      <td>99.750000</td>\n",
       "      <td>64.000000</td>\n",
       "      <td>25.000000</td>\n",
       "      <td>102.500000</td>\n",
       "      <td>27.500000</td>\n",
       "      <td>0.243750</td>\n",
       "      <td>24.000000</td>\n",
       "      <td>0.000000</td>\n",
       "    </tr>\n",
       "    <tr>\n",
       "      <th>50%</th>\n",
       "      <td>3.000000</td>\n",
       "      <td>117.000000</td>\n",
       "      <td>72.000000</td>\n",
       "      <td>28.000000</td>\n",
       "      <td>102.500000</td>\n",
       "      <td>32.050000</td>\n",
       "      <td>0.372500</td>\n",
       "      <td>29.000000</td>\n",
       "      <td>0.000000</td>\n",
       "    </tr>\n",
       "    <tr>\n",
       "      <th>75%</th>\n",
       "      <td>6.000000</td>\n",
       "      <td>140.250000</td>\n",
       "      <td>80.000000</td>\n",
       "      <td>32.000000</td>\n",
       "      <td>169.500000</td>\n",
       "      <td>36.600000</td>\n",
       "      <td>0.626250</td>\n",
       "      <td>41.000000</td>\n",
       "      <td>1.000000</td>\n",
       "    </tr>\n",
       "    <tr>\n",
       "      <th>max</th>\n",
       "      <td>17.000000</td>\n",
       "      <td>199.000000</td>\n",
       "      <td>122.000000</td>\n",
       "      <td>99.000000</td>\n",
       "      <td>846.000000</td>\n",
       "      <td>67.100000</td>\n",
       "      <td>2.420000</td>\n",
       "      <td>81.000000</td>\n",
       "      <td>1.000000</td>\n",
       "    </tr>\n",
       "  </tbody>\n",
       "</table>\n",
       "</div>"
      ],
      "text/plain": [
       "         Pregnant  2Hr_Gluco_Concentrate  Blood_Pressure   Skin_Fold  \\\n",
       "count  768.000000             768.000000      768.000000  768.000000   \n",
       "mean     3.845052             121.656250       72.389323   29.089844   \n",
       "std      3.369578              30.438286       12.106039    8.890820   \n",
       "min      0.000000              44.000000       24.000000    7.000000   \n",
       "25%      1.000000              99.750000       64.000000   25.000000   \n",
       "50%      3.000000             117.000000       72.000000   28.000000   \n",
       "75%      6.000000             140.250000       80.000000   32.000000   \n",
       "max     17.000000             199.000000      122.000000   99.000000   \n",
       "\n",
       "       2Hr_Isnulin         BMI     Predigy         Age       Class  \n",
       "count   768.000000  768.000000  768.000000  768.000000  768.000000  \n",
       "mean    141.753906   32.434635    0.471876   33.240885    0.348958  \n",
       "std      89.100847    6.880498    0.331329   11.760232    0.476951  \n",
       "min      14.000000   18.200000    0.078000   21.000000    0.000000  \n",
       "25%     102.500000   27.500000    0.243750   24.000000    0.000000  \n",
       "50%     102.500000   32.050000    0.372500   29.000000    0.000000  \n",
       "75%     169.500000   36.600000    0.626250   41.000000    1.000000  \n",
       "max     846.000000   67.100000    2.420000   81.000000    1.000000  "
      ]
     },
     "execution_count": 46,
     "metadata": {},
     "output_type": "execute_result"
    }
   ],
   "source": [
    "df[\"2Hr_Gluco_Concentrate\"] = df[\"2Hr_Gluco_Concentrate\"].replace(0, np.nan)\n",
    "df[\"2Hr_Gluco_Concentrate\"] = df[\"2Hr_Gluco_Concentrate\"].fillna(df[\"2Hr_Gluco_Concentrate\"].median())\n",
    "df[\"Blood_Pressure\"] = df[\"Blood_Pressure\"].replace(0, np.nan)\n",
    "df[\"Blood_Pressure\"] = df.groupby(\"Class\")[\"Blood_Pressure\"].transform(lambda x: x.fillna(x.median()))\n",
    "df[\"Skin_Fold\"] = df[\"Skin_Fold\"].replace(0, np.nan)\n",
    "df[\"Skin_Fold\"] = df.groupby(\"Class\")[\"Skin_Fold\"].transform(lambda x: x.fillna(x.median()))\n",
    "df[\"Skin_Fold\"] = df[\"Skin_Fold\"].replace(0, np.nan)\n",
    "df[\"Skin_Fold\"] = df.groupby(\"Class\")[\"Skin_Fold\"].transform(lambda x: x.fillna(x.median()))\n",
    "df[\"2Hr_Isnulin\"] = df[\"2Hr_Isnulin\"].replace(0, np.nan)\n",
    "df[\"2Hr_Isnulin\"] = df.groupby(\"Class\")[\"2Hr_Isnulin\"].transform(lambda x: x.fillna(x.median()))\n",
    "df[\"BMI\"] = df[\"BMI\"].replace(0, np.nan)\n",
    "df[\"BMI\"] = df.groupby(\"Class\")[\"BMI\"].transform(lambda x: x.fillna(x.median()))\n",
    "df.describe()"
   ]
  },
  {
   "cell_type": "markdown",
   "id": "314d6ba6",
   "metadata": {},
   "source": [
    "- Thực hiện xử lí dữ liệu thiếu theo trung vị của lớp output"
   ]
  },
  {
   "cell_type": "markdown",
   "id": "51554abf",
   "metadata": {},
   "source": [
    "### 1.4 Spilt Train-Test"
   ]
  },
  {
   "cell_type": "code",
   "execution_count": 52,
   "id": "6e651b0b",
   "metadata": {},
   "outputs": [],
   "source": [
    "from sklearn.ensemble import AdaBoostClassifier\n",
    "from sklearn.model_selection import train_test_split\n",
    "from sklearn.preprocessing import MinMaxScaler, StandardScaler\n",
    "from numpy import set_printoptions\n",
    "# separate array into input and output components\n",
    "Y = df[\"Class\"]\n",
    "X = df.drop(\"Class\",axis=1)\n",
    "seed = 7\n",
    "validation_size = 0.2\n",
    "X_train, X_validation, Y_train, Y_validation = train_test_split(X, Y, test_size=validation_size, random_state=seed)"
   ]
  },
  {
   "cell_type": "markdown",
   "id": "3d56717e",
   "metadata": {},
   "source": [
    "### 1.5 Normalization & Standardlize"
   ]
  },
  {
   "cell_type": "code",
   "execution_count": 48,
   "id": "ddbf1730",
   "metadata": {},
   "outputs": [
    {
     "name": "stdout",
     "output_type": "stream",
     "text": [
      "[[ 3.548e-01 -4.247e-01 -1.018e-03 ...  5.072e-01 -6.179e-01  1.064e-02]\n",
      " [-5.479e-01 -6.220e-01  1.166e+00 ...  1.856e+00 -1.035e+00 -8.605e-01]\n",
      " [ 5.391e-02  1.219e+00  4.993e-01 ...  4.800e-02  1.037e+00 -1.636e-01]\n",
      " ...\n",
      " [-1.150e+00 -2.102e+00 -1.002e+00 ... -1.559e+00  8.283e-01  2.972e+00]\n",
      " [-8.489e-01 -5.233e-01 -1.168e+00 ... -1.186e+00 -8.507e-01 -1.035e+00]\n",
      " [ 1.258e+00  1.910e+00 -1.018e-03 ...  1.930e-02  7.793e-01  2.720e-01]]\n"
     ]
    }
   ],
   "source": [
    "scaler = MinMaxScaler(feature_range=(0, 1))\n",
    "X_train = scaler.fit_transform(X_train)\n",
    "X_validation = scaler.transform(X_validation)\n",
    "scaler = StandardScaler()\n",
    "X_train = scaler.fit_transform(X_train)\n",
    "X_validation = scaler.transform(X_validation)\n",
    "set_printoptions(precision=3)\n",
    "print(X_train)"
   ]
  },
  {
   "cell_type": "markdown",
   "id": "41b71ed1",
   "metadata": {},
   "source": [
    "- Rescale các giá trị số về [0,1] và theo phân bố chuẩn"
   ]
  },
  {
   "cell_type": "markdown",
   "id": "edb289fc",
   "metadata": {},
   "source": [
    "### 1.6 PCA\n",
    "- Thử giữ số phương sai cho PCA là 95%"
   ]
  },
  {
   "cell_type": "code",
   "execution_count": 49,
   "id": "e9e3651d",
   "metadata": {},
   "outputs": [],
   "source": [
    "from sklearn.decomposition import PCA\n",
    "pca = PCA(n_components=0.95)\n",
    "X_train = pca.fit_transform(X_train)\n",
    "X_validation = pca.transform(X_validation)"
   ]
  },
  {
   "cell_type": "markdown",
   "id": "fa7576ea",
   "metadata": {},
   "source": [
    "## 2. Tunning (Grid_Search)"
   ]
  },
  {
   "cell_type": "markdown",
   "id": "4a13cd11",
   "metadata": {},
   "source": [
    "### 2.1 Tunning (GridSearch)"
   ]
  },
  {
   "cell_type": "code",
   "execution_count": 50,
   "id": "ebceb0da",
   "metadata": {},
   "outputs": [
    {
     "name": "stdout",
     "output_type": "stream",
     "text": [
      "Fitting 10 folds for each of 3 candidates, totalling 30 fits\n",
      "{'model': AdaBoostClassifier(random_state=7), 'score': np.float64(78.99788471708091)}\n"
     ]
    }
   ],
   "source": [
    "from sklearn.model_selection import GridSearchCV, KFold\n",
    "Ada = AdaBoostClassifier(random_state=seed)\n",
    "hyperparameters = {\n",
    "    'n_estimators': [50, 100, 200]\n",
    "}\n",
    "k_fold = KFold(n_splits=10, shuffle=True, random_state=seed)\n",
    "grid_search = GridSearchCV(Ada,\n",
    "                        scoring='accuracy',\n",
    "                        param_grid=hyperparameters,\n",
    "                        cv=k_fold,\n",
    "                        verbose=1\n",
    ")\n",
    "grid_search.fit(X_train,Y_train)\n",
    "best_tunned = {}\n",
    "best_tunned[\"model\"] = grid_search.best_estimator_\n",
    "best_tunned[\"score\"] = grid_search.best_score_*100\n",
    "print(best_tunned)"
   ]
  },
  {
   "cell_type": "markdown",
   "id": "4b6a0c1a",
   "metadata": {},
   "source": []
  },
  {
   "cell_type": "markdown",
   "id": "c6693bcc",
   "metadata": {},
   "source": [
    "### 2.2 Đáng giá mô hình với tập test"
   ]
  },
  {
   "cell_type": "code",
   "execution_count": 51,
   "id": "4b89e5db",
   "metadata": {},
   "outputs": [
    {
     "name": "stdout",
     "output_type": "stream",
     "text": [
      "Score of Model AdaBoostClassifier(random_state=7) : 79.87012987012987\n"
     ]
    }
   ],
   "source": [
    "acc = best_tunned[\"model\"].score(X_validation,Y_validation)*100\n",
    "print(\"Score of Model\", best_tunned[\"model\"], \":\", acc)"
   ]
  },
  {
   "cell_type": "markdown",
   "id": "4df71ad6",
   "metadata": {},
   "source": [
    "- Vậy AdaBoost sau khi tunned có độ chuẩn xác (accuracy) ~79.87%"
   ]
  }
 ],
 "metadata": {
  "kernelspec": {
   "display_name": "Python 3",
   "language": "python",
   "name": "python3"
  },
  "language_info": {
   "codemirror_mode": {
    "name": "ipython",
    "version": 3
   },
   "file_extension": ".py",
   "mimetype": "text/x-python",
   "name": "python",
   "nbconvert_exporter": "python",
   "pygments_lexer": "ipython3",
   "version": "3.11.0rc2"
  }
 },
 "nbformat": 4,
 "nbformat_minor": 5
}
