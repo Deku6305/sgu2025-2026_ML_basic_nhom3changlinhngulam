{
 "cells": [
  {
   "cell_type": "markdown",
   "id": "c6cda6fd-71c1-40b4-8f6b-2be93ce6438f",
   "metadata": {},
   "source": [
    "# Phân tích và xử lí dữ liệu về bệnh đái tháo đường\n",
    "Tổng quan về tập dữ liệu:\n",
    "1. Number of times pregnant : số lần có thai.\n",
    "2. Plasma glucose concentration a 2 hours in an oral glucose tolerance test : bài kiểm tra độ tích tụ lượng đường trong cơ thể.\n",
    "3. Diastolic blood pressure (mm Hg): chỉ số đo huyết áp tâm trương (áp lực động mạch khi tim nghỉ ngơi giữa 2 lần co bóp).\n",
    "4. Triceps skin fold thickness (mm): độ dày da gắp nép của bắp tay sau.\n",
    "5. 2-Hour serum insulin (mu U/ml): chỉ số đo insulin trong cơ thể sau 2 giờ dung nạp gluco\n",
    "6. Body mass index (weight in kg/(height in m)^2): chỉ số đo tỉ lệ cân nặng chiều cao theo chuẩn BMI.\n",
    "7. Diabetes pedigree function: chỉ số đo bệnh về đái tháo đường theo phả hệ.\n",
    "8. Age (years): tuổi."
   ]
  },
  {
   "cell_type": "markdown",
   "id": "243289db-3311-4950-b1dc-2f75acfe852b",
   "metadata": {},
   "source": [
    "# Bắt đầu"
   ]
  },
  {
   "cell_type": "markdown",
   "id": "e9877386-e654-4cad-9ef5-5407b3cbb66c",
   "metadata": {},
   "source": [
    "## 1. Phân tích tập dữ liệu"
   ]
  },
  {
   "cell_type": "markdown",
   "id": "8fcdb228-c732-4bb6-8b0e-872a2d31aa00",
   "metadata": {},
   "source": [
    "### 1.1 thêm các thư viện cần thiết"
   ]
  },
  {
   "cell_type": "code",
   "execution_count": 3,
   "id": "a603ce91-fe58-45e2-b2dc-03f259c52d0a",
   "metadata": {},
   "outputs": [],
   "source": [
    "import numpy as np\n",
    "import pandas as pd\n",
    "import matplotlib as plt\n",
    "import IPython.display as display"
   ]
  },
  {
   "cell_type": "markdown",
   "id": "f780bdf8-cd43-4575-8c64-953063d9df8f",
   "metadata": {},
   "source": [
    "### 1.2 Đọc tập dữ liệu "
   ]
  },
  {
   "cell_type": "code",
   "execution_count": 4,
   "id": "16a2549c-049e-4a4a-b174-7c3ea7f92a00",
   "metadata": {},
   "outputs": [],
   "source": [
    "data_path  = \"data/pima-indians-diabetes.csv\"\n",
    "data_names = [\"Pregnant\",\"2Hr_Gluco_Concentrate\",\"Blood_Pressure\",\"Skin_Fold\",\"2Hr_Isnulin\",\"BMI\",\"Predigy\",\"Age\",\"Class\"]\n",
    "df_dataset = pd.read_csv(data_path, names = data_names)"
   ]
  },
  {
   "cell_type": "code",
   "execution_count": 5,
   "id": "d9e5de98-3286-4e04-adfe-9a42548ca775",
   "metadata": {},
   "outputs": [
    {
     "data": {
      "text/html": [
       "<div>\n",
       "<style scoped>\n",
       "    .dataframe tbody tr th:only-of-type {\n",
       "        vertical-align: middle;\n",
       "    }\n",
       "\n",
       "    .dataframe tbody tr th {\n",
       "        vertical-align: top;\n",
       "    }\n",
       "\n",
       "    .dataframe thead th {\n",
       "        text-align: right;\n",
       "    }\n",
       "</style>\n",
       "<table border=\"1\" class=\"dataframe\">\n",
       "  <thead>\n",
       "    <tr style=\"text-align: right;\">\n",
       "      <th></th>\n",
       "      <th>Pregnant</th>\n",
       "      <th>2Hr_Gluco_Concentrate</th>\n",
       "      <th>Blood_Pressure</th>\n",
       "      <th>Skin_Fold</th>\n",
       "      <th>2Hr_Isnulin</th>\n",
       "      <th>BMI</th>\n",
       "      <th>Predigy</th>\n",
       "      <th>Age</th>\n",
       "      <th>Class</th>\n",
       "    </tr>\n",
       "  </thead>\n",
       "  <tbody>\n",
       "    <tr>\n",
       "      <th>0</th>\n",
       "      <td>6</td>\n",
       "      <td>148</td>\n",
       "      <td>72</td>\n",
       "      <td>35</td>\n",
       "      <td>0</td>\n",
       "      <td>33.6</td>\n",
       "      <td>0.627</td>\n",
       "      <td>50</td>\n",
       "      <td>1</td>\n",
       "    </tr>\n",
       "    <tr>\n",
       "      <th>1</th>\n",
       "      <td>1</td>\n",
       "      <td>85</td>\n",
       "      <td>66</td>\n",
       "      <td>29</td>\n",
       "      <td>0</td>\n",
       "      <td>26.6</td>\n",
       "      <td>0.351</td>\n",
       "      <td>31</td>\n",
       "      <td>0</td>\n",
       "    </tr>\n",
       "    <tr>\n",
       "      <th>2</th>\n",
       "      <td>8</td>\n",
       "      <td>183</td>\n",
       "      <td>64</td>\n",
       "      <td>0</td>\n",
       "      <td>0</td>\n",
       "      <td>23.3</td>\n",
       "      <td>0.672</td>\n",
       "      <td>32</td>\n",
       "      <td>1</td>\n",
       "    </tr>\n",
       "    <tr>\n",
       "      <th>3</th>\n",
       "      <td>1</td>\n",
       "      <td>89</td>\n",
       "      <td>66</td>\n",
       "      <td>23</td>\n",
       "      <td>94</td>\n",
       "      <td>28.1</td>\n",
       "      <td>0.167</td>\n",
       "      <td>21</td>\n",
       "      <td>0</td>\n",
       "    </tr>\n",
       "    <tr>\n",
       "      <th>4</th>\n",
       "      <td>0</td>\n",
       "      <td>137</td>\n",
       "      <td>40</td>\n",
       "      <td>35</td>\n",
       "      <td>168</td>\n",
       "      <td>43.1</td>\n",
       "      <td>2.288</td>\n",
       "      <td>33</td>\n",
       "      <td>1</td>\n",
       "    </tr>\n",
       "  </tbody>\n",
       "</table>\n",
       "</div>"
      ],
      "text/plain": [
       "   Pregnant  2Hr_Gluco_Concentrate  Blood_Pressure  Skin_Fold  2Hr_Isnulin  \\\n",
       "0         6                    148              72         35            0   \n",
       "1         1                     85              66         29            0   \n",
       "2         8                    183              64          0            0   \n",
       "3         1                     89              66         23           94   \n",
       "4         0                    137              40         35          168   \n",
       "\n",
       "    BMI  Predigy  Age  Class  \n",
       "0  33.6    0.627   50      1  \n",
       "1  26.6    0.351   31      0  \n",
       "2  23.3    0.672   32      1  \n",
       "3  28.1    0.167   21      0  \n",
       "4  43.1    2.288   33      1  "
      ]
     },
     "execution_count": 5,
     "metadata": {},
     "output_type": "execute_result"
    }
   ],
   "source": [
    "df_dataset.head()"
   ]
  },
  {
   "cell_type": "markdown",
   "id": "7dcb2177-a616-4b06-816e-edb58c546ce1",
   "metadata": {},
   "source": [
    "### 1.3 Kiểm tra tính toàn vẹn của tập dữ liệu"
   ]
  },
  {
   "cell_type": "code",
   "execution_count": 6,
   "id": "0aa94366-f75d-47fd-9e0e-9fcc8a8bde34",
   "metadata": {},
   "outputs": [
    {
     "name": "stdout",
     "output_type": "stream",
     "text": [
      "<class 'pandas.core.frame.DataFrame'>\n",
      "RangeIndex: 768 entries, 0 to 767\n",
      "Data columns (total 9 columns):\n",
      " #   Column                 Non-Null Count  Dtype  \n",
      "---  ------                 --------------  -----  \n",
      " 0   Pregnant               768 non-null    int64  \n",
      " 1   2Hr_Gluco_Concentrate  768 non-null    int64  \n",
      " 2   Blood_Pressure         768 non-null    int64  \n",
      " 3   Skin_Fold              768 non-null    int64  \n",
      " 4   2Hr_Isnulin            768 non-null    int64  \n",
      " 5   BMI                    768 non-null    float64\n",
      " 6   Predigy                768 non-null    float64\n",
      " 7   Age                    768 non-null    int64  \n",
      " 8   Class                  768 non-null    int64  \n",
      "dtypes: float64(2), int64(7)\n",
      "memory usage: 54.1 KB\n"
     ]
    }
   ],
   "source": [
    "df_dataset.info()"
   ]
  },
  {
   "cell_type": "markdown",
   "id": "1df5da63-08d7-4f5b-beb7-63d60e0d01a8",
   "metadata": {},
   "source": [
    "- Tập dữ liệu gồm 768 bản ghi không null và hợp lệ kiểu dữ liệu"
   ]
  },
  {
   "cell_type": "code",
   "execution_count": 7,
   "id": "730a4118-4b81-4eb4-8e69-b912c2919cc2",
   "metadata": {},
   "outputs": [
    {
     "data": {
      "text/plain": [
       "Pregnant                 0\n",
       "2Hr_Gluco_Concentrate    0\n",
       "Blood_Pressure           0\n",
       "Skin_Fold                0\n",
       "2Hr_Isnulin              0\n",
       "BMI                      0\n",
       "Predigy                  0\n",
       "Age                      0\n",
       "Class                    0\n",
       "dtype: int64"
      ]
     },
     "execution_count": 7,
     "metadata": {},
     "output_type": "execute_result"
    }
   ],
   "source": [
    "df_dataset.isna().sum()"
   ]
  },
  {
   "cell_type": "code",
   "execution_count": 10,
   "id": "8d69537e-d37c-436b-b925-b5066ef42991",
   "metadata": {},
   "outputs": [
    {
     "data": {
      "text/plain": [
       "Pregnant                 111\n",
       "2Hr_Gluco_Concentrate      5\n",
       "Blood_Pressure            35\n",
       "Skin_Fold                227\n",
       "2Hr_Isnulin              374\n",
       "BMI                       11\n",
       "Predigy                    0\n",
       "Age                        0\n",
       "Class                    500\n",
       "dtype: int64"
      ]
     },
     "execution_count": 10,
     "metadata": {},
     "output_type": "execute_result"
    }
   ],
   "source": [
    "(df_dataset == 0).sum()"
   ]
  },
  {
   "cell_type": "markdown",
   "id": "fec0ac19-c013-422c-8b1d-91763f0daf69",
   "metadata": {},
   "source": [
    "### 1.4 Thống kê trên dữ liệu số\n",
    "- Count, Mean, Standard Deviation, Minimum Value\n",
    "- 25th Percentile, 50th Percentile (Median), 75th Percentile, Maximum Value"
   ]
  },
  {
   "cell_type": "code",
   "execution_count": 10,
   "id": "a5205c1b-6237-4c96-8246-9ca2a620ce6a",
   "metadata": {},
   "outputs": [
    {
     "data": {
      "text/html": [
       "<div>\n",
       "<style scoped>\n",
       "    .dataframe tbody tr th:only-of-type {\n",
       "        vertical-align: middle;\n",
       "    }\n",
       "\n",
       "    .dataframe tbody tr th {\n",
       "        vertical-align: top;\n",
       "    }\n",
       "\n",
       "    .dataframe thead th {\n",
       "        text-align: right;\n",
       "    }\n",
       "</style>\n",
       "<table border=\"1\" class=\"dataframe\">\n",
       "  <thead>\n",
       "    <tr style=\"text-align: right;\">\n",
       "      <th></th>\n",
       "      <th>count</th>\n",
       "      <th>mean</th>\n",
       "      <th>std</th>\n",
       "      <th>min</th>\n",
       "      <th>25%</th>\n",
       "      <th>50%</th>\n",
       "      <th>75%</th>\n",
       "      <th>max</th>\n",
       "    </tr>\n",
       "  </thead>\n",
       "  <tbody>\n",
       "    <tr>\n",
       "      <th>Pregnant</th>\n",
       "      <td>768.0</td>\n",
       "      <td>3.845052</td>\n",
       "      <td>3.369578</td>\n",
       "      <td>0.000</td>\n",
       "      <td>1.00000</td>\n",
       "      <td>3.0000</td>\n",
       "      <td>6.00000</td>\n",
       "      <td>17.00</td>\n",
       "    </tr>\n",
       "    <tr>\n",
       "      <th>2Hr_Gluco_Concentrate</th>\n",
       "      <td>768.0</td>\n",
       "      <td>120.894531</td>\n",
       "      <td>31.972618</td>\n",
       "      <td>0.000</td>\n",
       "      <td>99.00000</td>\n",
       "      <td>117.0000</td>\n",
       "      <td>140.25000</td>\n",
       "      <td>199.00</td>\n",
       "    </tr>\n",
       "    <tr>\n",
       "      <th>Blood_Pressure</th>\n",
       "      <td>768.0</td>\n",
       "      <td>69.105469</td>\n",
       "      <td>19.355807</td>\n",
       "      <td>0.000</td>\n",
       "      <td>62.00000</td>\n",
       "      <td>72.0000</td>\n",
       "      <td>80.00000</td>\n",
       "      <td>122.00</td>\n",
       "    </tr>\n",
       "    <tr>\n",
       "      <th>Skin_Fold</th>\n",
       "      <td>768.0</td>\n",
       "      <td>20.536458</td>\n",
       "      <td>15.952218</td>\n",
       "      <td>0.000</td>\n",
       "      <td>0.00000</td>\n",
       "      <td>23.0000</td>\n",
       "      <td>32.00000</td>\n",
       "      <td>99.00</td>\n",
       "    </tr>\n",
       "    <tr>\n",
       "      <th>2Hr_Isnulin</th>\n",
       "      <td>768.0</td>\n",
       "      <td>79.799479</td>\n",
       "      <td>115.244002</td>\n",
       "      <td>0.000</td>\n",
       "      <td>0.00000</td>\n",
       "      <td>30.5000</td>\n",
       "      <td>127.25000</td>\n",
       "      <td>846.00</td>\n",
       "    </tr>\n",
       "    <tr>\n",
       "      <th>BMI</th>\n",
       "      <td>768.0</td>\n",
       "      <td>31.992578</td>\n",
       "      <td>7.884160</td>\n",
       "      <td>0.000</td>\n",
       "      <td>27.30000</td>\n",
       "      <td>32.0000</td>\n",
       "      <td>36.60000</td>\n",
       "      <td>67.10</td>\n",
       "    </tr>\n",
       "    <tr>\n",
       "      <th>Predigy</th>\n",
       "      <td>768.0</td>\n",
       "      <td>0.471876</td>\n",
       "      <td>0.331329</td>\n",
       "      <td>0.078</td>\n",
       "      <td>0.24375</td>\n",
       "      <td>0.3725</td>\n",
       "      <td>0.62625</td>\n",
       "      <td>2.42</td>\n",
       "    </tr>\n",
       "    <tr>\n",
       "      <th>Age</th>\n",
       "      <td>768.0</td>\n",
       "      <td>33.240885</td>\n",
       "      <td>11.760232</td>\n",
       "      <td>21.000</td>\n",
       "      <td>24.00000</td>\n",
       "      <td>29.0000</td>\n",
       "      <td>41.00000</td>\n",
       "      <td>81.00</td>\n",
       "    </tr>\n",
       "  </tbody>\n",
       "</table>\n",
       "</div>"
      ],
      "text/plain": [
       "                       count        mean         std     min       25%  \\\n",
       "Pregnant               768.0    3.845052    3.369578   0.000   1.00000   \n",
       "2Hr_Gluco_Concentrate  768.0  120.894531   31.972618   0.000  99.00000   \n",
       "Blood_Pressure         768.0   69.105469   19.355807   0.000  62.00000   \n",
       "Skin_Fold              768.0   20.536458   15.952218   0.000   0.00000   \n",
       "2Hr_Isnulin            768.0   79.799479  115.244002   0.000   0.00000   \n",
       "BMI                    768.0   31.992578    7.884160   0.000  27.30000   \n",
       "Predigy                768.0    0.471876    0.331329   0.078   0.24375   \n",
       "Age                    768.0   33.240885   11.760232  21.000  24.00000   \n",
       "\n",
       "                            50%        75%     max  \n",
       "Pregnant                 3.0000    6.00000   17.00  \n",
       "2Hr_Gluco_Concentrate  117.0000  140.25000  199.00  \n",
       "Blood_Pressure          72.0000   80.00000  122.00  \n",
       "Skin_Fold               23.0000   32.00000   99.00  \n",
       "2Hr_Isnulin             30.5000  127.25000  846.00  \n",
       "BMI                     32.0000   36.60000   67.10  \n",
       "Predigy                  0.3725    0.62625    2.42  \n",
       "Age                     29.0000   41.00000   81.00  "
      ]
     },
     "metadata": {},
     "output_type": "display_data"
    }
   ],
   "source": [
    "display.display(df_dataset.drop(columns=[\"Class\"]).describe().T)"
   ]
  },
  {
   "cell_type": "markdown",
   "id": "d2e440c8-f18d-4351-9b88-ba69bca64c5e",
   "metadata": {},
   "source": [
    "#### Nhận xét: "
   ]
  },
  {
   "cell_type": "code",
   "execution_count": null,
   "id": "a4219214-6542-46c2-85ec-b7cf7542a242",
   "metadata": {},
   "outputs": [],
   "source": []
  }
 ],
 "metadata": {
  "kernelspec": {
   "display_name": "Python 3 (ipykernel)",
   "language": "python",
   "name": "python3"
  },
  "language_info": {
   "codemirror_mode": {
    "name": "ipython",
    "version": 3
   },
   "file_extension": ".py",
   "mimetype": "text/x-python",
   "name": "python",
   "nbconvert_exporter": "python",
   "pygments_lexer": "ipython3",
   "version": "3.11.0rc2"
  }
 },
 "nbformat": 4,
 "nbformat_minor": 5
}
