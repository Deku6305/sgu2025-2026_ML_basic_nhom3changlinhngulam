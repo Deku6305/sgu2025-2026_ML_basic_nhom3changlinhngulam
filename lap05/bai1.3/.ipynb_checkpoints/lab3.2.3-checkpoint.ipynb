{
 "cells": [
  {
   "cell_type": "markdown",
   "id": "cc015b9a-6834-4851-b198-022443dd71f8",
   "metadata": {},
   "source": [
    "# Bài III:để làm quen với việc sử dụng các công cụ hỗ trợ EDA tự động."
   ]
  },
  {
   "cell_type": "markdown",
   "id": "ddc1b9f9-9d5f-4851-b1a6-90ed5712c10b",
   "metadata": {},
   "source": [
    "## Nhiệm vụ 1: Sử dụng pandas profiling trên dữ liệu Customer Personality Analysis."
   ]
  },
  {
   "cell_type": "markdown",
   "id": "8b8d73e0-3650-42fa-880d-aca38dd03067",
   "metadata": {},
   "source": [
    "### 1. Import thư viện và sử dụng công cụ profiling"
   ]
  },
  {
   "cell_type": "code",
   "execution_count": 7,
   "id": "0b83d986-4a5e-4dec-af39-c7fcd948538f",
   "metadata": {},
   "outputs": [
    {
     "data": {
      "application/vnd.jupyter.widget-view+json": {
       "model_id": "358862b6b3744a539e566dd33d004dff",
       "version_major": 2,
       "version_minor": 0
      },
      "text/plain": [
       "Summarize dataset:   0%|          | 0/5 [00:00<?, ?it/s]"
      ]
     },
     "metadata": {},
     "output_type": "display_data"
    },
    {
     "name": "stderr",
     "output_type": "stream",
     "text": [
      "\n",
      "100%|███████████████████████████████████████████████████████████████████████████| 29/29 [00:00<00:00, 28782.49it/s]\u001b[A\n"
     ]
    },
    {
     "data": {
      "application/vnd.jupyter.widget-view+json": {
       "model_id": "33b8b915ab974013b2a364fa8ce01add",
       "version_major": 2,
       "version_minor": 0
      },
      "text/plain": [
       "Generate report structure:   0%|          | 0/1 [00:00<?, ?it/s]"
      ]
     },
     "metadata": {},
     "output_type": "display_data"
    },
    {
     "data": {
      "application/vnd.jupyter.widget-view+json": {
       "model_id": "bea5f411168e43ac843795dccc0be58d",
       "version_major": 2,
       "version_minor": 0
      },
      "text/plain": [
       "Render HTML:   0%|          | 0/1 [00:00<?, ?it/s]"
      ]
     },
     "metadata": {},
     "output_type": "display_data"
    },
    {
     "data": {
      "application/vnd.jupyter.widget-view+json": {
       "model_id": "dd3a909978154143b9648d1740a1dd1b",
       "version_major": 2,
       "version_minor": 0
      },
      "text/plain": [
       "Export report to file:   0%|          | 0/1 [00:00<?, ?it/s]"
      ]
     },
     "metadata": {},
     "output_type": "display_data"
    }
   ],
   "source": [
    "import pandas as pd\n",
    "from ydata_profiling import ProfileReport\n",
    "marketing_data = pd.read_csv(\"data/marketing_campaign.csv\", sep=\"\\t\")\n",
    "# Create an Automated EDA report using the ProfileReport class in the\n",
    "# ydata_profiling library. Use the to_file method to output the report to an\n",
    "# HTML file\n",
    "profile = ProfileReport(marketing_data)\n",
    "profile.to_file(\"Reports/profile_output.html\")"
   ]
  },
  {
   "cell_type": "markdown",
   "id": "7aa98ef1-198e-4291-a883-67f6d9cf60b6",
   "metadata": {},
   "source": [
    "## Nhiệm vụ 2: Sử dụng dtale trên dữ liệu Marketing Campaign."
   ]
  },
  {
   "cell_type": "markdown",
   "id": "717436fd-f5af-47e4-a896-60ae2deebc32",
   "metadata": {},
   "source": [
    "### 1.Sử dụng công cụ dtale"
   ]
  },
  {
   "cell_type": "code",
   "execution_count": 8,
   "id": "3fec7cb0-99a9-43fa-a674-6292db3bae49",
   "metadata": {},
   "outputs": [],
   "source": [
    "import dtale\n",
    "dtale.show(marketing_data).open_browser()"
   ]
  },
  {
   "cell_type": "code",
   "execution_count": null,
   "id": "5cef7ede-4bde-4b37-962d-b5a2813d5c7a",
   "metadata": {},
   "outputs": [],
   "source": []
  }
 ],
 "metadata": {
  "kernelspec": {
   "display_name": "Python 3 (ipykernel)",
   "language": "python",
   "name": "python3"
  },
  "language_info": {
   "codemirror_mode": {
    "name": "ipython",
    "version": 3
   },
   "file_extension": ".py",
   "mimetype": "text/x-python",
   "name": "python",
   "nbconvert_exporter": "python",
   "pygments_lexer": "ipython3",
   "version": "3.11.0rc2"
  }
 },
 "nbformat": 4,
 "nbformat_minor": 5
}
