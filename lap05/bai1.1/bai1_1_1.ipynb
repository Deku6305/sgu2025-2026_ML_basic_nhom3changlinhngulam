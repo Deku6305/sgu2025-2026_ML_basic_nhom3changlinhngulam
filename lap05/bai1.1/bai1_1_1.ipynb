{
 "cells": [
  {
   "cell_type": "markdown",
   "id": "1bb20222",
   "metadata": {},
   "source": [
    "# Tên bài: Khai phá dữ liệu covid19"
   ]
  },
  {
   "cell_type": "markdown",
   "id": "30e1a5d9",
   "metadata": {},
   "source": [
    "## Bài làm"
   ]
  },
  {
   "cell_type": "markdown",
   "id": "4ddcf184",
   "metadata": {},
   "source": [
    "### import các thư viện cần thiết\n"
   ]
  },
  {
   "cell_type": "code",
   "execution_count": 1,
   "id": "9b65d3a1",
   "metadata": {},
   "outputs": [],
   "source": [
    "import numpy as np\n",
    "import pandas as pd\n",
    "from scipy import stats"
   ]
  },
  {
   "cell_type": "markdown",
   "id": "b1a32dda",
   "metadata": {},
   "source": [
    "from scipy import stats: dùng để tính mode và IQR"
   ]
  },
  {
   "cell_type": "markdown",
   "id": "8a761c92",
   "metadata": {},
   "source": [
    "### Load thư viện và đọc dataset"
   ]
  },
  {
   "cell_type": "code",
   "execution_count": 4,
   "id": "51aa25fc",
   "metadata": {},
   "outputs": [],
   "source": [
    "covid_data = pd.read_csv(\"data/covid19.csv\")\n",
    "covid_data = covid_data[['iso_code','continent',\n",
    "'location','date','total_cases','new_cases']]"
   ]
  },
  {
   "cell_type": "markdown",
   "id": "701efbc8",
   "metadata": {},
   "source": [
    "### Xem nhanh về dataset"
   ]
  },
  {
   "cell_type": "code",
   "execution_count": 5,
   "id": "5bb5cac7",
   "metadata": {},
   "outputs": [
    {
     "data": {
      "text/plain": [
       "(429435, 6)"
      ]
     },
     "execution_count": 5,
     "metadata": {},
     "output_type": "execute_result"
    }
   ],
   "source": [
    "covid_data.head(5)\n",
    "covid_data.dtypes\n",
    "covid_data.shape"
   ]
  },
  {
   "cell_type": "markdown",
   "id": "14ced82e",
   "metadata": {},
   "source": [
    "### Tạo Mean, Median, Mode cho data set"
   ]
  },
  {
   "cell_type": "code",
   "execution_count": 6,
   "id": "dffb1c73",
   "metadata": {},
   "outputs": [],
   "source": [
    "data_mean = np.mean(covid_data[\"new_cases\"])\n",
    "data_median = np.median(covid_data[\"new_cases\"])\n",
    "data_mode = stats.mode(covid_data[\"new_cases\"])"
   ]
  },
  {
   "cell_type": "markdown",
   "id": "055f1836",
   "metadata": {},
   "source": [
    "### Tính phương sai của dữ liệu"
   ]
  },
  {
   "cell_type": "code",
   "execution_count": 7,
   "id": "da145dae",
   "metadata": {},
   "outputs": [],
   "source": [
    "data_variance = np.var(covid_data[\"new_cases\"])"
   ]
  },
  {
   "cell_type": "markdown",
   "id": "db161e6a",
   "metadata": {},
   "source": [
    "### Tính độ lệch chuẩn của dữ liệu"
   ]
  },
  {
   "cell_type": "code",
   "execution_count": 8,
   "id": "7d909eb8",
   "metadata": {},
   "outputs": [],
   "source": [
    "data_sd = np.std(covid_data[\"new_cases\"])"
   ]
  },
  {
   "cell_type": "markdown",
   "id": "f79ac3cf",
   "metadata": {},
   "source": [
    "### Tính giá trị lớn nhất và nhỏ nhất của dữ liệu"
   ]
  },
  {
   "cell_type": "code",
   "execution_count": 9,
   "id": "f7bbf3d8",
   "metadata": {},
   "outputs": [],
   "source": [
    "data_max = np.max(covid_data[\"new_cases\"])\n",
    "data_min = np.min(covid_data[\"new_cases\"])"
   ]
  },
  {
   "cell_type": "markdown",
   "id": "b43945aa",
   "metadata": {},
   "source": [
    "### Tính phân vị thứ 60 của dữ liệu"
   ]
  },
  {
   "cell_type": "code",
   "execution_count": 10,
   "id": "69bf343c",
   "metadata": {},
   "outputs": [],
   "source": [
    "data_percentile = np.percentile(covid_data[\"new_cases\"],60)"
   ]
  },
  {
   "cell_type": "markdown",
   "id": "5847d1ba",
   "metadata": {},
   "source": [
    "### Lấy phân vị Q3 của dữ liệu"
   ]
  },
  {
   "cell_type": "code",
   "execution_count": 11,
   "id": "bcbafbd0",
   "metadata": {},
   "outputs": [],
   "source": [
    "data_quartile = np.quantile(covid_data[\"new_cases\"],0.75)"
   ]
  },
  {
   "cell_type": "markdown",
   "id": "a73462e9",
   "metadata": {},
   "source": [
    "### Tính IQR của dữ liệu"
   ]
  },
  {
   "cell_type": "code",
   "execution_count": 13,
   "id": "817b67c2",
   "metadata": {},
   "outputs": [],
   "source": [
    "data_IQR = stats.iqr(covid_data[\"new_cases\"])"
   ]
  }
 ],
 "metadata": {
  "kernelspec": {
   "display_name": "Python 3",
   "language": "python",
   "name": "python3"
  },
  "language_info": {
   "codemirror_mode": {
    "name": "ipython",
    "version": 3
   },
   "file_extension": ".py",
   "mimetype": "text/x-python",
   "name": "python",
   "nbconvert_exporter": "python",
   "pygments_lexer": "ipython3",
   "version": "3.13.2"
  }
 },
 "nbformat": 4,
 "nbformat_minor": 5
}
