{
 "cells": [
  {
   "cell_type": "markdown",
   "id": "1bb20222",
   "metadata": {},
   "source": [
    "# Tên bài: Khai phá dữ liệu covid19"
   ]
  },
  {
   "cell_type": "markdown",
   "id": "30e1a5d9",
   "metadata": {},
   "source": [
    "## Bài làm"
   ]
  },
  {
   "cell_type": "markdown",
   "id": "4ddcf184",
   "metadata": {},
   "source": [
    "import các thư viện cần thiết\n"
   ]
  },
  {
   "cell_type": "code",
   "execution_count": 2,
   "id": "9b65d3a1",
   "metadata": {},
   "outputs": [],
   "source": [
    "import numpy as np\n",
    "import pandas as pd\n",
    "from scipy import stats"
   ]
  },
  {
   "cell_type": "markdown",
   "id": "b1a32dda",
   "metadata": {},
   "source": [
    "from scipy import stats: dùng để tính mode và IQR"
   ]
  },
  {
   "cell_type": "code",
   "execution_count": 5,
   "id": "51aa25fc",
   "metadata": {},
   "outputs": [
    {
     "ename": "ModuleNotFoundError",
     "evalue": "No module named 'xdrlib'",
     "output_type": "error",
     "traceback": [
      "\u001b[31m---------------------------------------------------------------------------\u001b[39m",
      "\u001b[31mModuleNotFoundError\u001b[39m                       Traceback (most recent call last)",
      "\u001b[36mCell\u001b[39m\u001b[36m \u001b[39m\u001b[32mIn[5]\u001b[39m\u001b[32m, line 1\u001b[39m\n\u001b[32m----> \u001b[39m\u001b[32m1\u001b[39m \u001b[38;5;28;01mfrom\u001b[39;00m\u001b[38;5;250m \u001b[39m\u001b[34;01mowid\u001b[39;00m\u001b[38;5;250m \u001b[39m\u001b[38;5;28;01mimport\u001b[39;00m catalog\n\u001b[32m      3\u001b[39m rc = catalog.RemoteCatalog()\n\u001b[32m      4\u001b[39m uri = \u001b[33m\"\u001b[39m\u001b[33mgarden/covid/latest/testing/testing\u001b[39m\u001b[33m\"\u001b[39m\n",
      "\u001b[36mFile \u001b[39m\u001b[32m~\\AppData\\Roaming\\Python\\Python313\\site-packages\\owid\\catalog\\__init__.py:3\u001b[39m\n\u001b[32m      1\u001b[39m __version__ = \u001b[33m\"\u001b[39m\u001b[33m0.1.0\u001b[39m\u001b[33m\"\u001b[39m\n\u001b[32m----> \u001b[39m\u001b[32m3\u001b[39m \u001b[38;5;28;01mfrom\u001b[39;00m\u001b[38;5;250m \u001b[39m\u001b[34;01m.\u001b[39;00m\u001b[38;5;250m \u001b[39m\u001b[38;5;28;01mimport\u001b[39;00m processing, utils\n\u001b[32m      4\u001b[39m \u001b[38;5;28;01mfrom\u001b[39;00m\u001b[38;5;250m \u001b[39m\u001b[34;01m.\u001b[39;00m\u001b[34;01mcatalogs\u001b[39;00m\u001b[38;5;250m \u001b[39m\u001b[38;5;28;01mimport\u001b[39;00m CHANNEL, LocalCatalog, RemoteCatalog, find, find_latest, find_one\n\u001b[32m      5\u001b[39m \u001b[38;5;28;01mfrom\u001b[39;00m\u001b[38;5;250m \u001b[39m\u001b[34;01m.\u001b[39;00m\u001b[34;01mdatasets\u001b[39;00m\u001b[38;5;250m \u001b[39m\u001b[38;5;28;01mimport\u001b[39;00m Dataset\n",
      "\u001b[36mFile \u001b[39m\u001b[32m~\\AppData\\Roaming\\Python\\Python313\\site-packages\\owid\\catalog\\processing.py:4\u001b[39m\n\u001b[32m      1\u001b[39m \u001b[33;03m\"\"\"Common operations performed on tables and variables.\u001b[39;00m\n\u001b[32m      2\u001b[39m \n\u001b[32m      3\u001b[39m \u001b[33;03m\"\"\"\u001b[39;00m\n\u001b[32m----> \u001b[39m\u001b[32m4\u001b[39m \u001b[38;5;28;01mfrom\u001b[39;00m\u001b[38;5;250m \u001b[39m\u001b[34;01m.\u001b[39;00m\u001b[34;01mtables\u001b[39;00m\u001b[38;5;250m \u001b[39m\u001b[38;5;28;01mimport\u001b[39;00m (\n\u001b[32m      5\u001b[39m     ExcelFile,\n\u001b[32m      6\u001b[39m     concat,\n\u001b[32m      7\u001b[39m     melt,\n\u001b[32m      8\u001b[39m     merge,\n\u001b[32m      9\u001b[39m     multi_merge,\n\u001b[32m     10\u001b[39m     pivot,\n\u001b[32m     11\u001b[39m     read_csv,\n\u001b[32m     12\u001b[39m     read_excel,\n\u001b[32m     13\u001b[39m     read_feather,\n\u001b[32m     14\u001b[39m     read_from_dict,\n\u001b[32m     15\u001b[39m     read_from_records,\n\u001b[32m     16\u001b[39m     read_fwf,\n\u001b[32m     17\u001b[39m     read_json,\n\u001b[32m     18\u001b[39m     read_rda,\n\u001b[32m     19\u001b[39m     read_rds,\n\u001b[32m     20\u001b[39m     read_stata,\n\u001b[32m     21\u001b[39m )\n\u001b[32m     23\u001b[39m __all__ = [\n\u001b[32m     24\u001b[39m     \u001b[33m\"\u001b[39m\u001b[33mExcelFile\u001b[39m\u001b[33m\"\u001b[39m,\n\u001b[32m     25\u001b[39m     \u001b[33m\"\u001b[39m\u001b[33mconcat\u001b[39m\u001b[33m\"\u001b[39m,\n\u001b[32m   (...)\u001b[39m\u001b[32m     39\u001b[39m     \u001b[33m\"\u001b[39m\u001b[33mread_rds\u001b[39m\u001b[33m\"\u001b[39m,\n\u001b[32m     40\u001b[39m ]\n",
      "\u001b[36mFile \u001b[39m\u001b[32m~\\AppData\\Roaming\\Python\\Python313\\site-packages\\owid\\catalog\\tables.py:30\u001b[39m\n\u001b[32m     28\u001b[39m \u001b[38;5;28;01mimport\u001b[39;00m\u001b[38;5;250m \u001b[39m\u001b[34;01mpyarrow\u001b[39;00m\n\u001b[32m     29\u001b[39m \u001b[38;5;28;01mimport\u001b[39;00m\u001b[38;5;250m \u001b[39m\u001b[34;01mpyarrow\u001b[39;00m\u001b[34;01m.\u001b[39;00m\u001b[34;01mparquet\u001b[39;00m\u001b[38;5;250m \u001b[39m\u001b[38;5;28;01mas\u001b[39;00m\u001b[38;5;250m \u001b[39m\u001b[34;01mpq\u001b[39;00m\n\u001b[32m---> \u001b[39m\u001b[32m30\u001b[39m \u001b[38;5;28;01mimport\u001b[39;00m\u001b[38;5;250m \u001b[39m\u001b[34;01mrdata\u001b[39;00m\n\u001b[32m     31\u001b[39m \u001b[38;5;28;01mimport\u001b[39;00m\u001b[38;5;250m \u001b[39m\u001b[34;01mstructlog\u001b[39;00m\n\u001b[32m     32\u001b[39m \u001b[38;5;28;01mfrom\u001b[39;00m\u001b[38;5;250m \u001b[39m\u001b[34;01mpandas\u001b[39;00m\u001b[34;01m.\u001b[39;00m\u001b[34;01m_typing\u001b[39;00m\u001b[38;5;250m \u001b[39m\u001b[38;5;28;01mimport\u001b[39;00m FilePath, ReadCsvBuffer, Scalar  \u001b[38;5;66;03m# type: ignore\u001b[39;00m\n",
      "\u001b[36mFile \u001b[39m\u001b[32m~\\AppData\\Roaming\\Python\\Python313\\site-packages\\rdata\\__init__.py:6\u001b[39m\n\u001b[32m      3\u001b[39m \u001b[38;5;28;01mimport\u001b[39;00m\u001b[38;5;250m \u001b[39m\u001b[34;01mos\u001b[39;00m\u001b[38;5;250m \u001b[39m\u001b[38;5;28;01mas\u001b[39;00m\u001b[38;5;250m \u001b[39m\u001b[34;01m_os\u001b[39;00m\n\u001b[32m      4\u001b[39m \u001b[38;5;28;01mimport\u001b[39;00m\u001b[38;5;250m \u001b[39m\u001b[34;01mpathlib\u001b[39;00m\u001b[38;5;250m \u001b[39m\u001b[38;5;28;01mas\u001b[39;00m\u001b[38;5;250m \u001b[39m\u001b[34;01m_pathlib\u001b[39;00m\n\u001b[32m----> \u001b[39m\u001b[32m6\u001b[39m \u001b[38;5;28;01mfrom\u001b[39;00m\u001b[38;5;250m \u001b[39m\u001b[34;01m.\u001b[39;00m\u001b[38;5;250m \u001b[39m\u001b[38;5;28;01mimport\u001b[39;00m conversion, parser\n\u001b[32m      9\u001b[39m \u001b[38;5;28;01mdef\u001b[39;00m\u001b[38;5;250m \u001b[39m\u001b[34m_get_test_data_path\u001b[39m() -> _pathlib.Path:\n\u001b[32m     10\u001b[39m     \u001b[38;5;28;01mreturn\u001b[39;00m _pathlib.Path(_os.path.dirname(\u001b[34m__file__\u001b[39m)) / \u001b[33m\"\u001b[39m\u001b[33mtests\u001b[39m\u001b[33m\"\u001b[39m / \u001b[33m\"\u001b[39m\u001b[33mdata\u001b[39m\u001b[33m\"\u001b[39m\n",
      "\u001b[36mFile \u001b[39m\u001b[32m~\\AppData\\Roaming\\Python\\Python313\\site-packages\\rdata\\conversion\\__init__.py:1\u001b[39m\n\u001b[32m----> \u001b[39m\u001b[32m1\u001b[39m \u001b[38;5;28;01mfrom\u001b[39;00m\u001b[38;5;250m \u001b[39m\u001b[34;01m.\u001b[39;00m\u001b[34;01m_conversion\u001b[39;00m\u001b[38;5;250m \u001b[39m\u001b[38;5;28;01mimport\u001b[39;00m (\n\u001b[32m      2\u001b[39m     DEFAULT_CLASS_MAP \u001b[38;5;28;01mas\u001b[39;00m DEFAULT_CLASS_MAP,\n\u001b[32m      3\u001b[39m     Converter \u001b[38;5;28;01mas\u001b[39;00m Converter,\n\u001b[32m      4\u001b[39m     RBuiltin \u001b[38;5;28;01mas\u001b[39;00m RBuiltin,\n\u001b[32m      5\u001b[39m     RBytecode \u001b[38;5;28;01mas\u001b[39;00m RBytecode,\n\u001b[32m      6\u001b[39m     RExpression \u001b[38;5;28;01mas\u001b[39;00m RExpression,\n\u001b[32m      7\u001b[39m     RFunction \u001b[38;5;28;01mas\u001b[39;00m RFunction,\n\u001b[32m      8\u001b[39m     RLanguage \u001b[38;5;28;01mas\u001b[39;00m RLanguage,\n\u001b[32m      9\u001b[39m     SimpleConverter \u001b[38;5;28;01mas\u001b[39;00m SimpleConverter,\n\u001b[32m     10\u001b[39m     convert \u001b[38;5;28;01mas\u001b[39;00m convert,\n\u001b[32m     11\u001b[39m     convert_array \u001b[38;5;28;01mas\u001b[39;00m convert_array,\n\u001b[32m     12\u001b[39m     convert_attrs \u001b[38;5;28;01mas\u001b[39;00m convert_attrs,\n\u001b[32m     13\u001b[39m     convert_char \u001b[38;5;28;01mas\u001b[39;00m convert_char,\n\u001b[32m     14\u001b[39m     convert_list \u001b[38;5;28;01mas\u001b[39;00m convert_list,\n\u001b[32m     15\u001b[39m     convert_symbol \u001b[38;5;28;01mas\u001b[39;00m convert_symbol,\n\u001b[32m     16\u001b[39m     convert_vector \u001b[38;5;28;01mas\u001b[39;00m convert_vector,\n\u001b[32m     17\u001b[39m     dataframe_constructor \u001b[38;5;28;01mas\u001b[39;00m dataframe_constructor,\n\u001b[32m     18\u001b[39m     factor_constructor \u001b[38;5;28;01mas\u001b[39;00m factor_constructor,\n\u001b[32m     19\u001b[39m     ts_constructor \u001b[38;5;28;01mas\u001b[39;00m ts_constructor,\n\u001b[32m     20\u001b[39m )\n",
      "\u001b[36mFile \u001b[39m\u001b[32m~\\AppData\\Roaming\\Python\\Python313\\site-packages\\rdata\\conversion\\_conversion.py:26\u001b[39m\n\u001b[32m     23\u001b[39m \u001b[38;5;28;01mimport\u001b[39;00m\u001b[38;5;250m \u001b[39m\u001b[34;01mpandas\u001b[39;00m\n\u001b[32m     24\u001b[39m \u001b[38;5;28;01mimport\u001b[39;00m\u001b[38;5;250m \u001b[39m\u001b[34;01mxarray\u001b[39;00m\n\u001b[32m---> \u001b[39m\u001b[32m26\u001b[39m \u001b[38;5;28;01mfrom\u001b[39;00m\u001b[38;5;250m \u001b[39m\u001b[34;01m.\u001b[39;00m\u001b[34;01m.\u001b[39;00m\u001b[38;5;250m \u001b[39m\u001b[38;5;28;01mimport\u001b[39;00m parser\n\u001b[32m     27\u001b[39m \u001b[38;5;28;01mfrom\u001b[39;00m\u001b[38;5;250m \u001b[39m\u001b[34;01m.\u001b[39;00m\u001b[34;01m.\u001b[39;00m\u001b[34;01mparser\u001b[39;00m\u001b[38;5;250m \u001b[39m\u001b[38;5;28;01mimport\u001b[39;00m RObject\n\u001b[32m     29\u001b[39m ConversionFunction = Callable[[Union[parser.RData, parser.RObject]], Any]\n",
      "\u001b[36mFile \u001b[39m\u001b[32m~\\AppData\\Roaming\\Python\\Python313\\site-packages\\rdata\\parser\\__init__.py:3\u001b[39m\n\u001b[32m      1\u001b[39m \u001b[33;03m\"\"\"Utilities for parsing a rdata file.\"\"\"\u001b[39;00m\n\u001b[32m----> \u001b[39m\u001b[32m3\u001b[39m \u001b[38;5;28;01mfrom\u001b[39;00m\u001b[38;5;250m \u001b[39m\u001b[34;01m.\u001b[39;00m\u001b[34;01m_parser\u001b[39;00m\u001b[38;5;250m \u001b[39m\u001b[38;5;28;01mimport\u001b[39;00m (\n\u001b[32m      4\u001b[39m     DEFAULT_ALTREP_MAP \u001b[38;5;28;01mas\u001b[39;00m DEFAULT_ALTREP_MAP,\n\u001b[32m      5\u001b[39m     CharFlags \u001b[38;5;28;01mas\u001b[39;00m CharFlags,\n\u001b[32m      6\u001b[39m     RData \u001b[38;5;28;01mas\u001b[39;00m RData,\n\u001b[32m      7\u001b[39m     RObject \u001b[38;5;28;01mas\u001b[39;00m RObject,\n\u001b[32m      8\u001b[39m     RObjectInfo \u001b[38;5;28;01mas\u001b[39;00m RObjectInfo,\n\u001b[32m      9\u001b[39m     RObjectType \u001b[38;5;28;01mas\u001b[39;00m RObjectType,\n\u001b[32m     10\u001b[39m     parse_data \u001b[38;5;28;01mas\u001b[39;00m parse_data,\n\u001b[32m     11\u001b[39m     parse_file \u001b[38;5;28;01mas\u001b[39;00m parse_file,\n\u001b[32m     12\u001b[39m )\n",
      "\u001b[36mFile \u001b[39m\u001b[32m~\\AppData\\Roaming\\Python\\Python313\\site-packages\\rdata\\parser\\_parser.py:11\u001b[39m\n\u001b[32m      9\u001b[39m \u001b[38;5;28;01mimport\u001b[39;00m\u001b[38;5;250m \u001b[39m\u001b[34;01mpathlib\u001b[39;00m\n\u001b[32m     10\u001b[39m \u001b[38;5;28;01mimport\u001b[39;00m\u001b[38;5;250m \u001b[39m\u001b[34;01mwarnings\u001b[39;00m\n\u001b[32m---> \u001b[39m\u001b[32m11\u001b[39m \u001b[38;5;28;01mimport\u001b[39;00m\u001b[38;5;250m \u001b[39m\u001b[34;01mxdrlib\u001b[39;00m\n\u001b[32m     12\u001b[39m \u001b[38;5;28;01mfrom\u001b[39;00m\u001b[38;5;250m \u001b[39m\u001b[34;01mdataclasses\u001b[39;00m\u001b[38;5;250m \u001b[39m\u001b[38;5;28;01mimport\u001b[39;00m dataclass\n\u001b[32m     13\u001b[39m \u001b[38;5;28;01mfrom\u001b[39;00m\u001b[38;5;250m \u001b[39m\u001b[34;01mtypes\u001b[39;00m\u001b[38;5;250m \u001b[39m\u001b[38;5;28;01mimport\u001b[39;00m MappingProxyType\n",
      "\u001b[31mModuleNotFoundError\u001b[39m: No module named 'xdrlib'"
     ]
    }
   ],
   "source": [
    "from owid import catalog\n",
    "\n",
    "rc = catalog.RemoteCatalog()\n",
    "uri = \"garden/covid/latest/testing/testing\"\n",
    "df = rc[uri]"
   ]
  }
 ],
 "metadata": {
  "kernelspec": {
   "display_name": "Python 3",
   "language": "python",
   "name": "python3"
  },
  "language_info": {
   "codemirror_mode": {
    "name": "ipython",
    "version": 3
   },
   "file_extension": ".py",
   "mimetype": "text/x-python",
   "name": "python",
   "nbconvert_exporter": "python",
   "pygments_lexer": "ipython3",
   "version": "3.13.2"
  }
 },
 "nbformat": 4,
 "nbformat_minor": 5
}
