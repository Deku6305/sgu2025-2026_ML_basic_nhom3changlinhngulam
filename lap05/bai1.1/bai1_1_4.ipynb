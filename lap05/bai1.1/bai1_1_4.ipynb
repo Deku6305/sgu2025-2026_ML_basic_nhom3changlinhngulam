{
 "cells": [
  {
   "cell_type": "markdown",
   "id": "2ef972d3",
   "metadata": {},
   "source": [
    "# Tên bài: Thực hiện thống kê mô tả trên tập dữ liệu về bệnh tiểu đường."
   ]
  },
  {
   "cell_type": "markdown",
   "id": "f67e28e9",
   "metadata": {},
   "source": [
    "## Bài làm\n"
   ]
  },
  {
   "cell_type": "markdown",
   "id": "62ec178e",
   "metadata": {},
   "source": [
    "### import thư viện cần thiết và đọc file"
   ]
  },
  {
   "cell_type": "code",
   "execution_count": null,
   "id": "a19ca89c",
   "metadata": {},
   "outputs": [
    {
     "name": "stdout",
     "output_type": "stream",
     "text": [
      "<class 'pandas.core.frame.DataFrame'>\n",
      "RangeIndex: 768 entries, 0 to 767\n",
      "Data columns (total 9 columns):\n",
      " #   Column                    Non-Null Count  Dtype  \n",
      "---  ------                    --------------  -----  \n",
      " 0   Pregnancies               768 non-null    int64  \n",
      " 1   Glucose                   768 non-null    int64  \n",
      " 2   BloodPressure             768 non-null    int64  \n",
      " 3   SkinThickness             768 non-null    int64  \n",
      " 4   Insulin                   768 non-null    int64  \n",
      " 5   BMI                       768 non-null    float64\n",
      " 6   DiabetesPedigreeFunction  768 non-null    float64\n",
      " 7   Age                       768 non-null    int64  \n",
      " 8   Outcome                   768 non-null    int64  \n",
      "dtypes: float64(2), int64(7)\n",
      "memory usage: 54.1 KB\n"
     ]
    },
    {
     "data": {
      "text/html": [
       "<div>\n",
       "<style scoped>\n",
       "    .dataframe tbody tr th:only-of-type {\n",
       "        vertical-align: middle;\n",
       "    }\n",
       "\n",
       "    .dataframe tbody tr th {\n",
       "        vertical-align: top;\n",
       "    }\n",
       "\n",
       "    .dataframe thead th {\n",
       "        text-align: right;\n",
       "    }\n",
       "</style>\n",
       "<table border=\"1\" class=\"dataframe\">\n",
       "  <thead>\n",
       "    <tr style=\"text-align: right;\">\n",
       "      <th></th>\n",
       "      <th>Pregnancies</th>\n",
       "      <th>Glucose</th>\n",
       "      <th>BloodPressure</th>\n",
       "      <th>SkinThickness</th>\n",
       "      <th>Insulin</th>\n",
       "      <th>BMI</th>\n",
       "      <th>DiabetesPedigreeFunction</th>\n",
       "      <th>Age</th>\n",
       "      <th>Outcome</th>\n",
       "    </tr>\n",
       "  </thead>\n",
       "  <tbody>\n",
       "    <tr>\n",
       "      <th>count</th>\n",
       "      <td>768.000000</td>\n",
       "      <td>768.000000</td>\n",
       "      <td>768.000000</td>\n",
       "      <td>768.000000</td>\n",
       "      <td>768.000000</td>\n",
       "      <td>768.000000</td>\n",
       "      <td>768.000000</td>\n",
       "      <td>768.000000</td>\n",
       "      <td>768.000000</td>\n",
       "    </tr>\n",
       "    <tr>\n",
       "      <th>mean</th>\n",
       "      <td>3.845052</td>\n",
       "      <td>120.894531</td>\n",
       "      <td>69.105469</td>\n",
       "      <td>20.536458</td>\n",
       "      <td>79.799479</td>\n",
       "      <td>31.992578</td>\n",
       "      <td>0.471876</td>\n",
       "      <td>33.240885</td>\n",
       "      <td>0.348958</td>\n",
       "    </tr>\n",
       "    <tr>\n",
       "      <th>std</th>\n",
       "      <td>3.369578</td>\n",
       "      <td>31.972618</td>\n",
       "      <td>19.355807</td>\n",
       "      <td>15.952218</td>\n",
       "      <td>115.244002</td>\n",
       "      <td>7.884160</td>\n",
       "      <td>0.331329</td>\n",
       "      <td>11.760232</td>\n",
       "      <td>0.476951</td>\n",
       "    </tr>\n",
       "    <tr>\n",
       "      <th>min</th>\n",
       "      <td>0.000000</td>\n",
       "      <td>0.000000</td>\n",
       "      <td>0.000000</td>\n",
       "      <td>0.000000</td>\n",
       "      <td>0.000000</td>\n",
       "      <td>0.000000</td>\n",
       "      <td>0.078000</td>\n",
       "      <td>21.000000</td>\n",
       "      <td>0.000000</td>\n",
       "    </tr>\n",
       "    <tr>\n",
       "      <th>25%</th>\n",
       "      <td>1.000000</td>\n",
       "      <td>99.000000</td>\n",
       "      <td>62.000000</td>\n",
       "      <td>0.000000</td>\n",
       "      <td>0.000000</td>\n",
       "      <td>27.300000</td>\n",
       "      <td>0.243750</td>\n",
       "      <td>24.000000</td>\n",
       "      <td>0.000000</td>\n",
       "    </tr>\n",
       "    <tr>\n",
       "      <th>50%</th>\n",
       "      <td>3.000000</td>\n",
       "      <td>117.000000</td>\n",
       "      <td>72.000000</td>\n",
       "      <td>23.000000</td>\n",
       "      <td>30.500000</td>\n",
       "      <td>32.000000</td>\n",
       "      <td>0.372500</td>\n",
       "      <td>29.000000</td>\n",
       "      <td>0.000000</td>\n",
       "    </tr>\n",
       "    <tr>\n",
       "      <th>75%</th>\n",
       "      <td>6.000000</td>\n",
       "      <td>140.250000</td>\n",
       "      <td>80.000000</td>\n",
       "      <td>32.000000</td>\n",
       "      <td>127.250000</td>\n",
       "      <td>36.600000</td>\n",
       "      <td>0.626250</td>\n",
       "      <td>41.000000</td>\n",
       "      <td>1.000000</td>\n",
       "    </tr>\n",
       "    <tr>\n",
       "      <th>max</th>\n",
       "      <td>17.000000</td>\n",
       "      <td>199.000000</td>\n",
       "      <td>122.000000</td>\n",
       "      <td>99.000000</td>\n",
       "      <td>846.000000</td>\n",
       "      <td>67.100000</td>\n",
       "      <td>2.420000</td>\n",
       "      <td>81.000000</td>\n",
       "      <td>1.000000</td>\n",
       "    </tr>\n",
       "  </tbody>\n",
       "</table>\n",
       "</div>"
      ],
      "text/plain": [
       "       Pregnancies     Glucose  BloodPressure  SkinThickness     Insulin  \\\n",
       "count   768.000000  768.000000     768.000000     768.000000  768.000000   \n",
       "mean      3.845052  120.894531      69.105469      20.536458   79.799479   \n",
       "std       3.369578   31.972618      19.355807      15.952218  115.244002   \n",
       "min       0.000000    0.000000       0.000000       0.000000    0.000000   \n",
       "25%       1.000000   99.000000      62.000000       0.000000    0.000000   \n",
       "50%       3.000000  117.000000      72.000000      23.000000   30.500000   \n",
       "75%       6.000000  140.250000      80.000000      32.000000  127.250000   \n",
       "max      17.000000  199.000000     122.000000      99.000000  846.000000   \n",
       "\n",
       "              BMI  DiabetesPedigreeFunction         Age     Outcome  \n",
       "count  768.000000                768.000000  768.000000  768.000000  \n",
       "mean    31.992578                  0.471876   33.240885    0.348958  \n",
       "std      7.884160                  0.331329   11.760232    0.476951  \n",
       "min      0.000000                  0.078000   21.000000    0.000000  \n",
       "25%     27.300000                  0.243750   24.000000    0.000000  \n",
       "50%     32.000000                  0.372500   29.000000    0.000000  \n",
       "75%     36.600000                  0.626250   41.000000    1.000000  \n",
       "max     67.100000                  2.420000   81.000000    1.000000  "
      ]
     },
     "execution_count": 1,
     "metadata": {},
     "output_type": "execute_result"
    }
   ],
   "source": [
    "import pandas as pd, numpy as np\n",
    "import matplotlib.pyplot as plt, seaborn as sns\n",
    "\n",
    "du_lieu_tieu_duong = pd.read_csv(\"data/diabetes.csv\")   \n",
    "du_lieu_tieu_duong.head()\n",
    "du_lieu_tieu_duong.info()\n",
    "du_lieu_tieu_duong.describe()\n"
   ]
  },
  {
   "cell_type": "markdown",
   "id": "8422ed69",
   "metadata": {},
   "source": [
    "Nhận thấy:\n",
    "+ Có 786 mẫu\n",
    "+ Không thấy giá trị nào null nhưng mà có những giá trị bằng 0 không được nên cần kiểm tra lại"
   ]
  },
  {
   "cell_type": "markdown",
   "id": "9447a970",
   "metadata": {},
   "source": [
    "### Vấn đề đặc biệt: giá trị 0"
   ]
  },
  {
   "cell_type": "code",
   "execution_count": null,
   "id": "048c0281",
   "metadata": {},
   "outputs": [
    {
     "name": "stdout",
     "output_type": "stream",
     "text": [
      "Glucose zeros: 5\n",
      "BloodPressure zeros: 35\n",
      "SkinThickness zeros: 227\n",
      "Insulin zeros: 374\n",
      "BMI zeros: 11\n",
      "Pregnancies                   0\n",
      "Glucose                       5\n",
      "BloodPressure                35\n",
      "SkinThickness               227\n",
      "Insulin                     374\n",
      "BMI                          11\n",
      "DiabetesPedigreeFunction      0\n",
      "Age                           0\n",
      "Outcome                       0\n",
      "dtype: int64\n"
     ]
    }
   ],
   "source": [
    "cols_zero = ['Glucose','BloodPressure','SkinThickness','Insulin','BMI']\n",
    "for c in cols_zero:\n",
    "    print(c, \"zeros:\", (du_lieu_tieu_duong[c]==0).sum())\n",
    "du_lieu_tieu_duong[cols_zero] = du_lieu_tieu_duong[cols_zero].replace(0, np.nan)\n",
    "print(du_lieu_tieu_duong.isnull().sum())\n"
   ]
  },
  {
   "cell_type": "markdown",
   "id": "52301a91",
   "metadata": {},
   "source": [
    "=> Cột 'Insulin' và cột 'SkinThickness' có dữ liệu bằng 0 rất lớn, cột 'Glucose' và cột 'BloodPressure' cũng có giá trị bằng 0 nhưng ít hơn nhiều so với 2 cột trên"
   ]
  },
  {
   "cell_type": "markdown",
   "id": "c3e1ca33",
   "metadata": {},
   "source": [
    "### Kiểm tra cân bằng lớp"
   ]
  },
  {
   "cell_type": "code",
   "execution_count": 3,
   "id": "b22988c9",
   "metadata": {},
   "outputs": [
    {
     "name": "stdout",
     "output_type": "stream",
     "text": [
      "Outcome\n",
      "0    500\n",
      "1    268\n",
      "Name: count, dtype: int64\n",
      "Outcome\n",
      "0    0.651042\n",
      "1    0.348958\n",
      "Name: proportion, dtype: float64\n"
     ]
    }
   ],
   "source": [
    "print(du_lieu_tieu_duong['Outcome'].value_counts())\n",
    "print(du_lieu_tieu_duong['Outcome'].value_counts(normalize=True))\n"
   ]
  },
  {
   "cell_type": "markdown",
   "id": "220d5276",
   "metadata": {},
   "source": [
    "Đánh giá:\n",
    "+ Tỷ lệ phân bố là khoảng 65:35 (hoặc xấp xỉ 2:1).\n",
    "\n",
    "+ Sự khác biệt 65.10% vs 34.90% được coi là mất cân bằng lớp vừa phải đến đáng kể"
   ]
  },
  {
   "cell_type": "markdown",
   "id": "21134131",
   "metadata": {},
   "source": [
    "### Phân bố và outliers"
   ]
  },
  {
   "cell_type": "code",
   "execution_count": 4,
   "id": "12eb3af3",
   "metadata": {},
   "outputs": [
    {
     "data": {
      "image/png": "[encoded data removed]",
      "text/plain": [
       "<Figure size 1200x400 with 3 Axes>"
      ]
     },
     "metadata": {},
     "output_type": "display_data"
    }
   ],
   "source": [
    "# Histogram cho Glucose, BMI, Insulin\n",
    "plt.figure(figsize=(12,4))\n",
    "for i,c in enumerate(['Glucose','BMI','Insulin']):\n",
    "    plt.subplot(1,3,i+1)\n",
    "    sns.histplot(du_lieu_tieu_duong[c].dropna(), kde=True)\n",
    "    plt.title(c)\n",
    "plt.tight_layout()\n"
   ]
  }
 ],
 "metadata": {
  "kernelspec": {
   "display_name": "Python 3",
   "language": "python",
   "name": "python3"
  },
  "language_info": {
   "codemirror_mode": {
    "name": "ipython",
    "version": 3
   },
   "file_extension": ".py",
   "mimetype": "text/x-python",
   "name": "python",
   "nbconvert_exporter": "python",
   "pygments_lexer": "ipython3",
   "version": "3.13.2"
  }
 },
 "nbformat": 4,
 "nbformat_minor": 5
}
