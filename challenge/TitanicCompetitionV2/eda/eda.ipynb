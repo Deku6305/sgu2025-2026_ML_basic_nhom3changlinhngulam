{
 "cells": [
  {
   "cell_type": "markdown",
   "id": "c021b260",
   "metadata": {},
   "source": [
    "# 1. Tìm hiểu vấn đề"
   ]
  },
  {
   "cell_type": "markdown",
   "id": "da1bf39b",
   "metadata": {},
   "source": [
    "+ **Mô tả**:\n",
    "    + Gồm có 2 bộ dữ liệu bao gồm:\n",
    "        + train.csv: 891 mẫu và có 11 đặc trưng và 1 biến kết quả.\n",
    "        + test.csv: 418 mẫu và có 11 đặc trưng và không có biến kết quả.\n",
    "+ **Dữ liệu vào**:\n",
    "    + pclass: vé hạng nhất = 1st, vé hạng hai = 2nd, vé hạng ba = 3rd\n",
    "    + sibsp: # anh chị em ruột/ vợ/ chồng trên tàu Titanic\n",
    "    + parch: # số lượng cha mẹ / con cái cùng ở trên tàu Titanic.\n",
    "    + ticket: ID của vé\n",
    "    + cabin: Số của cabin\n",
    "    + embarked: Cảng C = Cherbourg, Q = Queenstown, S = Southampton\n",
    "+ **Kết quả**: Survived (0 = Không, 1 = Có)"
   ]
  },
  {
   "cell_type": "markdown",
   "id": "a4386c6f",
   "metadata": {},
   "source": [
    "# 2. Chuẩn bị vấn đề"
   ]
  },
  {
   "cell_type": "markdown",
   "id": "ca2be830",
   "metadata": {},
   "source": [
    "## 2.1 khai báo thư viện"
   ]
  },
  {
   "cell_type": "code",
   "execution_count": 1,
   "id": "41384b18",
   "metadata": {},
   "outputs": [],
   "source": [
    "import pandas as pd\n",
    "import numpy as np\n",
    "import matplotlib.pyplot as plt\n",
    "import seaborn as sns\n",
    "from sklearn.neighbors import KNeighborsClassifier\n",
    "from sklearn.tree import DecisionTreeClassifier,ExtraTreeClassifier\n",
    "from sklearn.ensemble import RandomForestClassifier,ExtraTreesClassifier,BaggingClassifier,AdaBoostClassifier,GradientBoostingClassifier\n",
    "from sklearn.naive_bayes import GaussianNB\n",
    "from sklearn.svm import SVC"
   ]
  },
  {
   "cell_type": "markdown",
   "id": "e8945e04",
   "metadata": {},
   "source": [
    "## 2.2 Nạp dữ liệu"
   ]
  },
  {
   "cell_type": "code",
   "execution_count": 2,
   "id": "256390bb",
   "metadata": {},
   "outputs": [],
   "source": [
    "df = pd.read_csv('../data/train.csv')\n",
    "df_test = pd.read_csv('../data/test.csv')"
   ]
  },
  {
   "cell_type": "markdown",
   "id": "740e907f",
   "metadata": {},
   "source": [
    "# 3. Phân tích khám quá dữ liệu"
   ]
  },
  {
   "cell_type": "markdown",
   "id": "5e3b7111",
   "metadata": {},
   "source": [
    "## 3.1. Thống kê mô tả (Descriptive Statistics) - Ungraphic Approach"
   ]
  },
  {
   "cell_type": "markdown",
   "id": "de56eab6",
   "metadata": {},
   "source": [
    "### (1) **Hiển thị một số thông tin về dữ liệu**\n",
    "+ Số dòng, số cột của dữ liệu\n",
    "+ Kiểu dữ liệu của từng cột\n",
    "+ 5 dòng đầu của bảng dữ liệu\n",
    "+ Thông tin chung về dữ liệu"
   ]
  },
  {
   "cell_type": "code",
   "execution_count": 3,
   "id": "4d106e87",
   "metadata": {},
   "outputs": [
    {
     "data": {
      "text/plain": [
       "(891, 12)"
      ]
     },
     "execution_count": 3,
     "metadata": {},
     "output_type": "execute_result"
    }
   ],
   "source": [
    "df.shape"
   ]
  },
  {
   "cell_type": "code",
   "execution_count": 4,
   "id": "e89d684d",
   "metadata": {},
   "outputs": [
    {
     "data": {
      "text/plain": [
       "PassengerId      int64\n",
       "Survived         int64\n",
       "Pclass           int64\n",
       "Name            object\n",
       "Sex             object\n",
       "Age            float64\n",
       "SibSp            int64\n",
       "Parch            int64\n",
       "Ticket          object\n",
       "Fare           float64\n",
       "Cabin           object\n",
       "Embarked        object\n",
       "dtype: object"
      ]
     },
     "execution_count": 4,
     "metadata": {},
     "output_type": "execute_result"
    }
   ],
   "source": [
    "df.dtypes"
   ]
  },
  {
   "cell_type": "code",
   "execution_count": 5,
   "id": "0860d4ea",
   "metadata": {},
   "outputs": [
    {
     "data": {
      "text/html": [
       "<div>\n",
       "<style scoped>\n",
       "    .dataframe tbody tr th:only-of-type {\n",
       "        vertical-align: middle;\n",
       "    }\n",
       "\n",
       "    .dataframe tbody tr th {\n",
       "        vertical-align: top;\n",
       "    }\n",
       "\n",
       "    .dataframe thead th {\n",
       "        text-align: right;\n",
       "    }\n",
       "</style>\n",
       "<table border=\"1\" class=\"dataframe\">\n",
       "  <thead>\n",
       "    <tr style=\"text-align: right;\">\n",
       "      <th></th>\n",
       "      <th>PassengerId</th>\n",
       "      <th>Survived</th>\n",
       "      <th>Pclass</th>\n",
       "      <th>Name</th>\n",
       "      <th>Sex</th>\n",
       "      <th>Age</th>\n",
       "      <th>SibSp</th>\n",
       "      <th>Parch</th>\n",
       "      <th>Ticket</th>\n",
       "      <th>Fare</th>\n",
       "      <th>Cabin</th>\n",
       "      <th>Embarked</th>\n",
       "    </tr>\n",
       "  </thead>\n",
       "  <tbody>\n",
       "    <tr>\n",
       "      <th>0</th>\n",
       "      <td>1</td>\n",
       "      <td>0</td>\n",
       "      <td>3</td>\n",
       "      <td>Braund, Mr. Owen Harris</td>\n",
       "      <td>male</td>\n",
       "      <td>22.0</td>\n",
       "      <td>1</td>\n",
       "      <td>0</td>\n",
       "      <td>A/5 21171</td>\n",
       "      <td>7.2500</td>\n",
       "      <td>NaN</td>\n",
       "      <td>S</td>\n",
       "    </tr>\n",
       "    <tr>\n",
       "      <th>1</th>\n",
       "      <td>2</td>\n",
       "      <td>1</td>\n",
       "      <td>1</td>\n",
       "      <td>Cumings, Mrs. John Bradley (Florence Briggs Th...</td>\n",
       "      <td>female</td>\n",
       "      <td>38.0</td>\n",
       "      <td>1</td>\n",
       "      <td>0</td>\n",
       "      <td>PC 17599</td>\n",
       "      <td>71.2833</td>\n",
       "      <td>C85</td>\n",
       "      <td>C</td>\n",
       "    </tr>\n",
       "    <tr>\n",
       "      <th>2</th>\n",
       "      <td>3</td>\n",
       "      <td>1</td>\n",
       "      <td>3</td>\n",
       "      <td>Heikkinen, Miss. Laina</td>\n",
       "      <td>female</td>\n",
       "      <td>26.0</td>\n",
       "      <td>0</td>\n",
       "      <td>0</td>\n",
       "      <td>STON/O2. 3101282</td>\n",
       "      <td>7.9250</td>\n",
       "      <td>NaN</td>\n",
       "      <td>S</td>\n",
       "    </tr>\n",
       "    <tr>\n",
       "      <th>3</th>\n",
       "      <td>4</td>\n",
       "      <td>1</td>\n",
       "      <td>1</td>\n",
       "      <td>Futrelle, Mrs. Jacques Heath (Lily May Peel)</td>\n",
       "      <td>female</td>\n",
       "      <td>35.0</td>\n",
       "      <td>1</td>\n",
       "      <td>0</td>\n",
       "      <td>113803</td>\n",
       "      <td>53.1000</td>\n",
       "      <td>C123</td>\n",
       "      <td>S</td>\n",
       "    </tr>\n",
       "    <tr>\n",
       "      <th>4</th>\n",
       "      <td>5</td>\n",
       "      <td>0</td>\n",
       "      <td>3</td>\n",
       "      <td>Allen, Mr. William Henry</td>\n",
       "      <td>male</td>\n",
       "      <td>35.0</td>\n",
       "      <td>0</td>\n",
       "      <td>0</td>\n",
       "      <td>373450</td>\n",
       "      <td>8.0500</td>\n",
       "      <td>NaN</td>\n",
       "      <td>S</td>\n",
       "    </tr>\n",
       "  </tbody>\n",
       "</table>\n",
       "</div>"
      ],
      "text/plain": [
       "   PassengerId  Survived  Pclass  \\\n",
       "0            1         0       3   \n",
       "1            2         1       1   \n",
       "2            3         1       3   \n",
       "3            4         1       1   \n",
       "4            5         0       3   \n",
       "\n",
       "                                                Name     Sex   Age  SibSp  \\\n",
       "0                            Braund, Mr. Owen Harris    male  22.0      1   \n",
       "1  Cumings, Mrs. John Bradley (Florence Briggs Th...  female  38.0      1   \n",
       "2                             Heikkinen, Miss. Laina  female  26.0      0   \n",
       "3       Futrelle, Mrs. Jacques Heath (Lily May Peel)  female  35.0      1   \n",
       "4                           Allen, Mr. William Henry    male  35.0      0   \n",
       "\n",
       "   Parch            Ticket     Fare Cabin Embarked  \n",
       "0      0         A/5 21171   7.2500   NaN        S  \n",
       "1      0          PC 17599  71.2833   C85        C  \n",
       "2      0  STON/O2. 3101282   7.9250   NaN        S  \n",
       "3      0            113803  53.1000  C123        S  \n",
       "4      0            373450   8.0500   NaN        S  "
      ]
     },
     "execution_count": 5,
     "metadata": {},
     "output_type": "execute_result"
    }
   ],
   "source": [
    "df.head(5)"
   ]
  },
  {
   "cell_type": "code",
   "execution_count": 6,
   "id": "9271b130",
   "metadata": {},
   "outputs": [
    {
     "name": "stdout",
     "output_type": "stream",
     "text": [
      "<class 'pandas.core.frame.DataFrame'>\n",
      "RangeIndex: 891 entries, 0 to 890\n",
      "Data columns (total 12 columns):\n",
      " #   Column       Non-Null Count  Dtype  \n",
      "---  ------       --------------  -----  \n",
      " 0   PassengerId  891 non-null    int64  \n",
      " 1   Survived     891 non-null    int64  \n",
      " 2   Pclass       891 non-null    int64  \n",
      " 3   Name         891 non-null    object \n",
      " 4   Sex          891 non-null    object \n",
      " 5   Age          714 non-null    float64\n",
      " 6   SibSp        891 non-null    int64  \n",
      " 7   Parch        891 non-null    int64  \n",
      " 8   Ticket       891 non-null    object \n",
      " 9   Fare         891 non-null    float64\n",
      " 10  Cabin        204 non-null    object \n",
      " 11  Embarked     889 non-null    object \n",
      "dtypes: float64(2), int64(5), object(5)\n",
      "memory usage: 83.7+ KB\n"
     ]
    }
   ],
   "source": [
    "df.info()"
   ]
  },
  {
   "cell_type": "markdown",
   "id": "d507006f",
   "metadata": {},
   "source": [
    "### (2) **Kiểm tra tính toàn vẹn của dữ liệu**\n",
    "+ Dữ liệu có bị trùng lặp không? Hiển thị dòng bị vi phạm.\n",
    "+ Dữ liệu có tồn tại giá trị Null không? Hiển thị dòng bị vi phạm.\n",
    "+ Dữ liệu có tồn tại giá trị NaN không? Hiển thị dòng bị vi phạm."
   ]
  },
  {
   "cell_type": "code",
   "execution_count": 7,
   "id": "5d3df3b6",
   "metadata": {},
   "outputs": [
    {
     "name": "stdout",
     "output_type": "stream",
     "text": [
      "không có giá trị trùng lặp.\n"
     ]
    },
    {
     "data": {
      "text/plain": [
       "np.int64(0)"
      ]
     },
     "execution_count": 7,
     "metadata": {},
     "output_type": "execute_result"
    }
   ],
   "source": [
    "if df.duplicated().sum().any() == True:\n",
    "    print(\"Có giá trị trùng lặp.\")\n",
    "else:\n",
    "    print(\"không có giá trị trùng lặp.\")\n",
    "df.duplicated().sum()"
   ]
  },
  {
   "cell_type": "code",
   "execution_count": 8,
   "id": "612e78ab",
   "metadata": {},
   "outputs": [
    {
     "name": "stdout",
     "output_type": "stream",
     "text": [
      "Có giá trị NaN\n"
     ]
    },
    {
     "data": {
      "text/plain": [
       "PassengerId      0\n",
       "Survived         0\n",
       "Pclass           0\n",
       "Name             0\n",
       "Sex              0\n",
       "Age            177\n",
       "SibSp            0\n",
       "Parch            0\n",
       "Ticket           0\n",
       "Fare             0\n",
       "Cabin          687\n",
       "Embarked         2\n",
       "dtype: int64"
      ]
     },
     "execution_count": 8,
     "metadata": {},
     "output_type": "execute_result"
    }
   ],
   "source": [
    "if df.isna().sum().any() == True:\n",
    "    print(\"Có giá trị NaN\")\n",
    "else:\n",
    "    print(\"Không có giá trị NaN\")\n",
    "\n",
    "df.isna().sum()"
   ]
  },
  {
   "cell_type": "code",
   "execution_count": 9,
   "id": "f4e45310",
   "metadata": {},
   "outputs": [
    {
     "name": "stdout",
     "output_type": "stream",
     "text": [
      "Có giá trị Null\n"
     ]
    },
    {
     "data": {
      "text/plain": [
       "PassengerId      0\n",
       "Survived         0\n",
       "Pclass           0\n",
       "Name             0\n",
       "Sex              0\n",
       "Age            177\n",
       "SibSp            0\n",
       "Parch            0\n",
       "Ticket           0\n",
       "Fare             0\n",
       "Cabin          687\n",
       "Embarked         2\n",
       "dtype: int64"
      ]
     },
     "execution_count": 9,
     "metadata": {},
     "output_type": "execute_result"
    }
   ],
   "source": [
    "if df.isnull().sum().any() == True:\n",
    "    print(\"Có giá trị Null\")\n",
    "else:\n",
    "    print(\"Không có giá trị Null\")\n",
    "\n",
    "df.isna().sum()"
   ]
  },
  {
   "cell_type": "markdown",
   "id": "6885de90",
   "metadata": {},
   "source": [
    "**Nhận xét**:\n",
    "+ Dữ liệu có không có dòng bị trùng.\n",
    "+ Dữ liệu có có giá trị rỗng (NaN, Null) ở Age: 177, Canbin: 687, Embarked: 2"
   ]
  },
  {
   "cell_type": "markdown",
   "id": "a6b7e581",
   "metadata": {},
   "source": [
    "## 3.2. Hiển thị dữ liệu (Visualize Data) - Graphic Approach"
   ]
  },
  {
   "cell_type": "code",
   "execution_count": 18,
   "id": "51a15040",
   "metadata": {},
   "outputs": [
    {
     "data": {
      "image/png": "[encoded data removed]",
      "text/plain": [
       "<Figure size 600x600 with 1 Axes>"
      ]
     },
     "metadata": {},
     "output_type": "display_data"
    }
   ],
   "source": [
    "# Đếm số lượng người sống sót và không sống sót\n",
    "survived_counts = df['Survived'].value_counts()\n",
    "\n",
    "# Vẽ biểu đồ tròn\n",
    "plt.figure(figsize=(6,6))\n",
    "plt.pie(\n",
    "    survived_counts,\n",
    "    labels=['Không sống sót', 'Sống sót'],\n",
    "    autopct='%1.1f%%',     # Hiển thị phần trăm\n",
    "    startangle=90,         # Bắt đầu từ góc 90 độ\n",
    "    colors=['lightcoral', 'skyblue'],\n",
    "    textprops={'fontsize': 14}\n",
    ")\n",
    "plt.title('Tỷ lệ sống sót trên Titanic')\n",
    "plt.show()"
   ]
  },
  {
   "cell_type": "code",
   "execution_count": 11,
   "id": "e8c66ec1",
   "metadata": {},
   "outputs": [],
   "source": [
    "def bar_chart(feature,ti): #Tạo hàm để sử dụng cho các feature phân tích chung với 'Survived'\n",
    "    survived = df[df['Survived']==1][feature].value_counts()\n",
    "    dead = df[df['Survived']==0][feature].value_counts()\n",
    "    temp = pd.DataFrame([survived,dead]) #Tạo dataframe mới chứa hai series kết hợp lại\n",
    "    temp.index = ['Sống sót','Tử vong'] #Gán lại 'Survived', 'Dead' để dễ hiểu hơn\n",
    "    temp.plot(kind='bar',stacked=True, figsize=(10,5),title=ti,rot=45)\n",
    "    display(temp) #Show dataframe vừa tạo"
   ]
  },
  {
   "cell_type": "code",
   "execution_count": 12,
   "id": "289958b6",
   "metadata": {},
   "outputs": [
    {
     "data": {
      "text/html": [
       "<div>\n",
       "<style scoped>\n",
       "    .dataframe tbody tr th:only-of-type {\n",
       "        vertical-align: middle;\n",
       "    }\n",
       "\n",
       "    .dataframe tbody tr th {\n",
       "        vertical-align: top;\n",
       "    }\n",
       "\n",
       "    .dataframe thead th {\n",
       "        text-align: right;\n",
       "    }\n",
       "</style>\n",
       "<table border=\"1\" class=\"dataframe\">\n",
       "  <thead>\n",
       "    <tr style=\"text-align: right;\">\n",
       "      <th>Sex</th>\n",
       "      <th>female</th>\n",
       "      <th>male</th>\n",
       "    </tr>\n",
       "  </thead>\n",
       "  <tbody>\n",
       "    <tr>\n",
       "      <th>Sống sót</th>\n",
       "      <td>233</td>\n",
       "      <td>109</td>\n",
       "    </tr>\n",
       "    <tr>\n",
       "      <th>Tử vong</th>\n",
       "      <td>81</td>\n",
       "      <td>468</td>\n",
       "    </tr>\n",
       "  </tbody>\n",
       "</table>\n",
       "</div>"
      ],
      "text/plain": [
       "Sex       female  male\n",
       "Sống sót     233   109\n",
       "Tử vong       81   468"
      ]
     },
     "metadata": {},
     "output_type": "display_data"
    },
    {
     "data": {
      "image/png": "[encoded data removed]",
      "text/plain": [
       "<Figure size 1000x500 with 1 Axes>"
      ]
     },
     "metadata": {},
     "output_type": "display_data"
    }
   ],
   "source": [
    "bar_chart('Sex','Số lượng người sống sốt và tử vong dựa trên giới tính')"
   ]
  },
  {
   "cell_type": "markdown",
   "id": "21786a94",
   "metadata": {},
   "source": [
    "Bảng dữ liệu cho thấy: ***Phụ nữ có khả năng sống sót cao hơn đàn ông***"
   ]
  },
  {
   "cell_type": "code",
   "execution_count": 13,
   "id": "b79797d0",
   "metadata": {},
   "outputs": [
    {
     "data": {
      "text/html": [
       "<div>\n",
       "<style scoped>\n",
       "    .dataframe tbody tr th:only-of-type {\n",
       "        vertical-align: middle;\n",
       "    }\n",
       "\n",
       "    .dataframe tbody tr th {\n",
       "        vertical-align: top;\n",
       "    }\n",
       "\n",
       "    .dataframe thead th {\n",
       "        text-align: right;\n",
       "    }\n",
       "</style>\n",
       "<table border=\"1\" class=\"dataframe\">\n",
       "  <thead>\n",
       "    <tr style=\"text-align: right;\">\n",
       "      <th>Pclass</th>\n",
       "      <th>1</th>\n",
       "      <th>3</th>\n",
       "      <th>2</th>\n",
       "    </tr>\n",
       "  </thead>\n",
       "  <tbody>\n",
       "    <tr>\n",
       "      <th>Sống sót</th>\n",
       "      <td>136</td>\n",
       "      <td>119</td>\n",
       "      <td>87</td>\n",
       "    </tr>\n",
       "    <tr>\n",
       "      <th>Tử vong</th>\n",
       "      <td>80</td>\n",
       "      <td>372</td>\n",
       "      <td>97</td>\n",
       "    </tr>\n",
       "  </tbody>\n",
       "</table>\n",
       "</div>"
      ],
      "text/plain": [
       "Pclass      1    3   2\n",
       "Sống sót  136  119  87\n",
       "Tử vong    80  372  97"
      ]
     },
     "metadata": {},
     "output_type": "display_data"
    },
    {
     "data": {
      "image/png": "[encoded data removed]",
      "text/plain": [
       "<Figure size 1000x500 with 1 Axes>"
      ]
     },
     "metadata": {},
     "output_type": "display_data"
    }
   ],
   "source": [
    "bar_chart('Pclass','Số lượng người sống sốt và tử vong dựa trên hạng vé')"
   ]
  },
  {
   "cell_type": "markdown",
   "id": "192553ee",
   "metadata": {},
   "source": [
    "Bảng dữ liệu cho thấy: \n",
    "\n",
    "***Phụ nữ có khả năng sống sót cao hơn đàn ông***\n",
    "\n",
    "vé **hạng nhất** có tỉ lệ sống sót cao hơn các vé *còn lại*\n",
    "\n",
    "vé **hạng ba** có tỉ lệ chết cao hơn các vé *còn lại*"
   ]
  },
  {
   "cell_type": "code",
   "execution_count": 14,
   "id": "5b11212f",
   "metadata": {},
   "outputs": [
    {
     "data": {
      "text/html": [
       "<div>\n",
       "<style scoped>\n",
       "    .dataframe tbody tr th:only-of-type {\n",
       "        vertical-align: middle;\n",
       "    }\n",
       "\n",
       "    .dataframe tbody tr th {\n",
       "        vertical-align: top;\n",
       "    }\n",
       "\n",
       "    .dataframe thead th {\n",
       "        text-align: right;\n",
       "    }\n",
       "</style>\n",
       "<table border=\"1\" class=\"dataframe\">\n",
       "  <thead>\n",
       "    <tr style=\"text-align: right;\">\n",
       "      <th>SibSp</th>\n",
       "      <th>0</th>\n",
       "      <th>1</th>\n",
       "      <th>2</th>\n",
       "      <th>3</th>\n",
       "      <th>4</th>\n",
       "      <th>8</th>\n",
       "      <th>5</th>\n",
       "    </tr>\n",
       "  </thead>\n",
       "  <tbody>\n",
       "    <tr>\n",
       "      <th>Sống sót</th>\n",
       "      <td>210.0</td>\n",
       "      <td>112.0</td>\n",
       "      <td>13.0</td>\n",
       "      <td>4.0</td>\n",
       "      <td>3.0</td>\n",
       "      <td>NaN</td>\n",
       "      <td>NaN</td>\n",
       "    </tr>\n",
       "    <tr>\n",
       "      <th>Tử vong</th>\n",
       "      <td>398.0</td>\n",
       "      <td>97.0</td>\n",
       "      <td>15.0</td>\n",
       "      <td>12.0</td>\n",
       "      <td>15.0</td>\n",
       "      <td>7.0</td>\n",
       "      <td>5.0</td>\n",
       "    </tr>\n",
       "  </tbody>\n",
       "</table>\n",
       "</div>"
      ],
      "text/plain": [
       "SibSp         0      1     2     3     4    8    5\n",
       "Sống sót  210.0  112.0  13.0   4.0   3.0  NaN  NaN\n",
       "Tử vong   398.0   97.0  15.0  12.0  15.0  7.0  5.0"
      ]
     },
     "metadata": {},
     "output_type": "display_data"
    },
    {
     "data": {
      "image/png": "[encoded data removed]",
      "text/plain": [
       "<Figure size 1000x500 with 1 Axes>"
      ]
     },
     "metadata": {},
     "output_type": "display_data"
    }
   ],
   "source": [
    "bar_chart('SibSp','Số lượng người sống sốt và tử vong dựa trên quan anh chị em hoặc vợ chồng')"
   ]
  },
  {
   "cell_type": "markdown",
   "id": "32275082",
   "metadata": {},
   "source": [
    "Bảng dữ liệu cho thấy: \n",
    "\n",
    "***Phụ nữ có khả năng sống sót cao hơn đàn ông***\n",
    "\n",
    "Người **có** hơn 2 anh em hoặc là vợ/chồng có tỉ lệ **sống sót cao hơn**\n",
    "\n",
    "Người **không** anh em hoặc là vợ/chồng có tỉ lệ **chết cao hơn**"
   ]
  },
  {
   "cell_type": "code",
   "execution_count": 15,
   "id": "8797f16f",
   "metadata": {},
   "outputs": [
    {
     "data": {
      "text/html": [
       "<div>\n",
       "<style scoped>\n",
       "    .dataframe tbody tr th:only-of-type {\n",
       "        vertical-align: middle;\n",
       "    }\n",
       "\n",
       "    .dataframe tbody tr th {\n",
       "        vertical-align: top;\n",
       "    }\n",
       "\n",
       "    .dataframe thead th {\n",
       "        text-align: right;\n",
       "    }\n",
       "</style>\n",
       "<table border=\"1\" class=\"dataframe\">\n",
       "  <thead>\n",
       "    <tr style=\"text-align: right;\">\n",
       "      <th>Parch</th>\n",
       "      <th>0</th>\n",
       "      <th>1</th>\n",
       "      <th>2</th>\n",
       "      <th>3</th>\n",
       "      <th>5</th>\n",
       "      <th>4</th>\n",
       "      <th>6</th>\n",
       "    </tr>\n",
       "  </thead>\n",
       "  <tbody>\n",
       "    <tr>\n",
       "      <th>Sống sót</th>\n",
       "      <td>233.0</td>\n",
       "      <td>65.0</td>\n",
       "      <td>40.0</td>\n",
       "      <td>3.0</td>\n",
       "      <td>1.0</td>\n",
       "      <td>NaN</td>\n",
       "      <td>NaN</td>\n",
       "    </tr>\n",
       "    <tr>\n",
       "      <th>Tử vong</th>\n",
       "      <td>445.0</td>\n",
       "      <td>53.0</td>\n",
       "      <td>40.0</td>\n",
       "      <td>2.0</td>\n",
       "      <td>4.0</td>\n",
       "      <td>4.0</td>\n",
       "      <td>1.0</td>\n",
       "    </tr>\n",
       "  </tbody>\n",
       "</table>\n",
       "</div>"
      ],
      "text/plain": [
       "Parch         0     1     2    3    5    4    6\n",
       "Sống sót  233.0  65.0  40.0  3.0  1.0  NaN  NaN\n",
       "Tử vong   445.0  53.0  40.0  2.0  4.0  4.0  1.0"
      ]
     },
     "metadata": {},
     "output_type": "display_data"
    },
    {
     "data": {
      "image/png": "[encoded data removed]",
      "text/plain": [
       "<Figure size 1000x500 with 1 Axes>"
      ]
     },
     "metadata": {},
     "output_type": "display_data"
    }
   ],
   "source": [
    "bar_chart('Parch','Số lượng người sống sốt và tử vong dựa trên quan hệ cha con')"
   ]
  },
  {
   "cell_type": "markdown",
   "id": "c91b9308",
   "metadata": {},
   "source": [
    "Biểu đồ xác nhận một người lên tàu cùng với hơn 2 cha mẹ hoặc con cái có nhiều khả năng **sống sót** hơn.\n",
    "\n",
    "Biểu đồ xác nhận một người lên tàu một mình có nhiều khả năng **tử vong** hơn."
   ]
  },
  {
   "cell_type": "code",
   "execution_count": 16,
   "id": "9025b1cc",
   "metadata": {},
   "outputs": [
    {
     "data": {
      "text/html": [
       "<div>\n",
       "<style scoped>\n",
       "    .dataframe tbody tr th:only-of-type {\n",
       "        vertical-align: middle;\n",
       "    }\n",
       "\n",
       "    .dataframe tbody tr th {\n",
       "        vertical-align: top;\n",
       "    }\n",
       "\n",
       "    .dataframe thead th {\n",
       "        text-align: right;\n",
       "    }\n",
       "</style>\n",
       "<table border=\"1\" class=\"dataframe\">\n",
       "  <thead>\n",
       "    <tr style=\"text-align: right;\">\n",
       "      <th>Embarked</th>\n",
       "      <th>S</th>\n",
       "      <th>C</th>\n",
       "      <th>Q</th>\n",
       "    </tr>\n",
       "  </thead>\n",
       "  <tbody>\n",
       "    <tr>\n",
       "      <th>Sống sót</th>\n",
       "      <td>217</td>\n",
       "      <td>93</td>\n",
       "      <td>30</td>\n",
       "    </tr>\n",
       "    <tr>\n",
       "      <th>Tử vong</th>\n",
       "      <td>427</td>\n",
       "      <td>75</td>\n",
       "      <td>47</td>\n",
       "    </tr>\n",
       "  </tbody>\n",
       "</table>\n",
       "</div>"
      ],
      "text/plain": [
       "Embarked    S   C   Q\n",
       "Sống sót  217  93  30\n",
       "Tử vong   427  75  47"
      ]
     },
     "metadata": {},
     "output_type": "display_data"
    },
    {
     "data": {
      "image/png": "[encoded data removed]",
      "text/plain": [
       "<Figure size 1000x500 with 1 Axes>"
      ]
     },
     "metadata": {},
     "output_type": "display_data"
    }
   ],
   "source": [
    "bar_chart('Embarked','Số lượng người sống sốt và tử vong dựa trên cảng đăng ký')"
   ]
  },
  {
   "cell_type": "markdown",
   "id": "a49e4a5b",
   "metadata": {},
   "source": [
    "Biểu đồ xác nhận rằng một người lên tàu từ cảng C (Cherbourg) có nhiều khả năng sống sót hơn.\n",
    "\n",
    "Biểu đồ xác nhận rằng một người lên tàu từ cảng Q (Queenstown) có nhiều khả năng tử vong hơn.\n",
    "\n",
    "Biểu đồ xác nhận rằng một người lên tàu từ cảng S (Southampton) có nhiều khả năng tử vong hơn."
   ]
  },
  {
   "cell_type": "markdown",
   "id": "4a853594",
   "metadata": {},
   "source": [
    "Có những biến không liên quan đến kết quả predict như là: **PassengerID, Name, Ticket, Fare** vì là các biến là Unique."
   ]
  },
  {
   "cell_type": "markdown",
   "id": "e5443dd4",
   "metadata": {},
   "source": [
    "## 3.3 Độ tương quan"
   ]
  },
  {
   "cell_type": "code",
   "execution_count": null,
   "id": "3a19760c",
   "metadata": {},
   "outputs": [
    {
     "ename": "NameError",
     "evalue": "name 'corr' is not defined",
     "output_type": "error",
     "traceback": [
      "\u001b[31m---------------------------------------------------------------------------\u001b[39m",
      "\u001b[31mNameError\u001b[39m                                 Traceback (most recent call last)",
      "\u001b[36mCell\u001b[39m\u001b[36m \u001b[39m\u001b[32mIn[19]\u001b[39m\u001b[32m, line 3\u001b[39m\n\u001b[32m      1\u001b[39m plt.figure(figsize=(\u001b[32m10\u001b[39m, \u001b[32m6\u001b[39m))\n\u001b[32m      2\u001b[39m sns.heatmap(\n\u001b[32m----> \u001b[39m\u001b[32m3\u001b[39m     \u001b[43mcorr\u001b[49m,\n\u001b[32m      4\u001b[39m     annot=\u001b[38;5;28;01mTrue\u001b[39;00m,          \u001b[38;5;66;03m# Show the correlation values\u001b[39;00m\n\u001b[32m      5\u001b[39m     fmt=\u001b[33m\"\u001b[39m\u001b[33m.2f\u001b[39m\u001b[33m\"\u001b[39m,           \u001b[38;5;66;03m# Format decimal places\u001b[39;00m\n\u001b[32m      6\u001b[39m     cmap=\u001b[33m\"\u001b[39m\u001b[33mcoolwarm\u001b[39m\u001b[33m\"\u001b[39m,     \u001b[38;5;66;03m# Color palette\u001b[39;00m\n\u001b[32m      7\u001b[39m     linewidths=\u001b[32m0.5\u001b[39m,      \u001b[38;5;66;03m# Lines between cells\u001b[39;00m\n\u001b[32m      8\u001b[39m     cbar=\u001b[38;5;28;01mTrue\u001b[39;00m            \u001b[38;5;66;03m# Show color bar\u001b[39;00m\n\u001b[32m      9\u001b[39m )\n\u001b[32m     10\u001b[39m plt.title(\u001b[33m\"\u001b[39m\u001b[33mCorrelation Matrix for Titanic Dataset\u001b[39m\u001b[33m\"\u001b[39m, fontsize=\u001b[32m16\u001b[39m)\n\u001b[32m     11\u001b[39m plt.show()\n",
      "\u001b[31mNameError\u001b[39m: name 'corr' is not defined"
     ]
    },
    {
     "data": {
      "text/plain": [
       "<Figure size 1000x600 with 0 Axes>"
      ]
     },
     "metadata": {},
     "output_type": "display_data"
    }
   ],
   "source": [
    "plt.figure(figsize=(10, 6))\n",
    "sns.heatmap(\n",
    "    df.corr(numeric_only=True),\n",
    "    annot=True,          # Show the correlation values\n",
    "    fmt=\".2f\",           # Format decimal places\n",
    "    cmap=\"coolwarm\",     # Color palette\n",
    "    linewidths=0.5,      # Lines between cells\n",
    "    cbar=True            # Show color bar\n",
    ")\n",
    "plt.title(\"Correlation Matrix for Titanic Dataset\", fontsize=16)\n",
    "plt.show()"
   ]
  },
  {
   "cell_type": "code",
   "execution_count": null,
   "id": "bf995b4a",
   "metadata": {},
   "outputs": [],
   "source": []
  }
 ],
 "metadata": {
  "kernelspec": {
   "display_name": "Python 3",
   "language": "python",
   "name": "python3"
  },
  "language_info": {
   "codemirror_mode": {
    "name": "ipython",
    "version": 3
   },
   "file_extension": ".py",
   "mimetype": "text/x-python",
   "name": "python",
   "nbconvert_exporter": "python",
   "pygments_lexer": "ipython3",
   "version": "3.11.0rc2"
  }
 },
 "nbformat": 4,
 "nbformat_minor": 5
}
